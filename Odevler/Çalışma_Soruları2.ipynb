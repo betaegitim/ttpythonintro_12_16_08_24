{
  "nbformat": 4,
  "nbformat_minor": 0,
  "metadata": {
    "colab": {
      "name": "Çalışma Soruları2.ipynb",
      "provenance": [],
      "collapsed_sections": []
    },
    "kernelspec": {
      "name": "python3",
      "display_name": "Python 3"
    }
  },
  "cells": [
    {
      "cell_type": "markdown",
      "metadata": {
        "id": "o3qXk4XBtXfh"
      },
      "source": [
        "1- İki listenin arasındaki farklı eleman(lar)ı bulan python kodunu yazınız."
      ]
    },
    {
      "cell_type": "code",
      "metadata": {
        "id": "dR3hjF2GtU6W"
      },
      "source": [
        ""
      ],
      "execution_count": null,
      "outputs": []
    },
    {
      "cell_type": "markdown",
      "metadata": {
        "id": "ubCUPZkFtzdE"
      },
      "source": [
        "2-Bir liste olarak verilen karakterleri bir metne dönüştüren python programını yazınız. "
      ]
    },
    {
      "cell_type": "code",
      "metadata": {
        "id": "x7cdO8-0t-Jc"
      },
      "source": [
        ""
      ],
      "execution_count": null,
      "outputs": []
    },
    {
      "cell_type": "markdown",
      "metadata": {
        "id": "Cn3YXWQ6t_RD"
      },
      "source": [
        "3-Farklı üç listeyi elemanları eski listelerinde aynı sırada olacak şekilde birleştiren python kodunu yazınız"
      ]
    },
    {
      "cell_type": "code",
      "metadata": {
        "id": "ObEokedgubDD"
      },
      "source": [
        ""
      ],
      "execution_count": null,
      "outputs": []
    },
    {
      "cell_type": "markdown",
      "metadata": {
        "id": "yc_iHmNvudXB"
      },
      "source": [
        "4-Verilen liste içerisindeki tekrarsız birbirinden farklı sayılardan en büyük ikincisinin indisini ekrana yazdıran python programını yazınız. "
      ]
    },
    {
      "cell_type": "code",
      "metadata": {
        "id": "rtdsKBHCuraD"
      },
      "source": [
        ""
      ],
      "execution_count": null,
      "outputs": []
    },
    {
      "cell_type": "markdown",
      "metadata": {
        "id": "xrwiWMIzuvhh"
      },
      "source": [
        "5-Bir listenin alt bir liste barındırıp barındırmadığını kontrol eden python kodunu yazınız. "
      ]
    },
    {
      "cell_type": "code",
      "metadata": {
        "id": "dBTy--DavANG"
      },
      "source": [
        ""
      ],
      "execution_count": null,
      "outputs": []
    },
    {
      "cell_type": "markdown",
      "metadata": {
        "id": "DA604xZsvAqO"
      },
      "source": [
        "6-Bir sözlükteki tüm elemanları sözlükte bulan değerlere göre sıralayan python programını yazınız. \n"
      ]
    },
    {
      "cell_type": "code",
      "metadata": {
        "id": "5dlwrlUuvbOy"
      },
      "source": [
        ""
      ],
      "execution_count": null,
      "outputs": []
    },
    {
      "cell_type": "markdown",
      "metadata": {
        "id": "sTt6G6qBvP3M"
      },
      "source": [
        "7-\n",
        "Bir tuple veri tipini str veri tipine dönüştüren python kodunu yazınız. "
      ]
    },
    {
      "cell_type": "code",
      "metadata": {
        "id": "88TWS5pmvZWC"
      },
      "source": [
        ""
      ],
      "execution_count": null,
      "outputs": []
    },
    {
      "cell_type": "markdown",
      "metadata": {
        "id": "AwytxmldvcF-"
      },
      "source": [
        "<pre>* <br>* * <br>* * * <br>* * * * <br>* * * * * <br>* * * * <br>* * * <br>* * <br>*\n",
        "</pre>\n",
        "8-Ekranda görülen karakterleri iç içe döngü kullanarak python kodu ile ekrana yazıdırınız."
      ]
    },
    {
      "cell_type": "code",
      "metadata": {
        "id": "rIeLF0p0wEk7"
      },
      "source": [
        ""
      ],
      "execution_count": null,
      "outputs": []
    }
  ]
}