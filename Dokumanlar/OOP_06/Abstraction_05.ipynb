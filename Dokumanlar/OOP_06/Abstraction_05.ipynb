{
 "cells": [
  {
   "cell_type": "code",
   "execution_count": 1,
   "metadata": {},
   "outputs": [
    {
     "ename": "TypeError",
     "evalue": "Can't instantiate abstract class GeometrikSekil without an implementation for abstract methods 'alanhesapla', 'cevrehesapla'",
     "output_type": "error",
     "traceback": [
      "\u001b[0;31m---------------------------------------------------------------------------\u001b[0m",
      "\u001b[0;31mTypeError\u001b[0m                                 Traceback (most recent call last)",
      "Cell \u001b[0;32mIn[1], line 9\u001b[0m\n\u001b[1;32m      6\u001b[0m     \u001b[38;5;129m@abstractmethod\u001b[39m\n\u001b[1;32m      7\u001b[0m     \u001b[38;5;28;01mdef\u001b[39;00m \u001b[38;5;21mcevrehesapla\u001b[39m(\u001b[38;5;28mself\u001b[39m):\n\u001b[1;32m      8\u001b[0m         \u001b[38;5;28;01mpass\u001b[39;00m\n\u001b[0;32m----> 9\u001b[0m \u001b[43mGeometrikSekil\u001b[49m\u001b[43m(\u001b[49m\u001b[43m)\u001b[49m\n",
      "\u001b[0;31mTypeError\u001b[0m: Can't instantiate abstract class GeometrikSekil without an implementation for abstract methods 'alanhesapla', 'cevrehesapla'"
     ]
    }
   ],
   "source": [
    "from abc import ABC,abstractmethod # abstract base class\n",
    "class GeometrikSekil(ABC):\n",
    "    @abstractmethod\n",
    "    def alanhesapla(self):\n",
    "        pass\n",
    "    @abstractmethod\n",
    "    def cevrehesapla(self):\n",
    "        pass\n"
   ]
  },
  {
   "cell_type": "code",
   "execution_count": 3,
   "metadata": {},
   "outputs": [],
   "source": [
    "from abc import ABC,abstractmethod # abstract base class\n",
    "class GeometrikSekil(ABC):\n",
    "    @abstractmethod\n",
    "    def alanhesapla(self):\n",
    "        pass\n",
    "    @abstractmethod\n",
    "    def cevrehesapla(self):\n",
    "        pass\n",
    "\n",
    "class Dikdortgen(GeometrikSekil):\n",
    "    def __init__(self,uzunluk,genislik):\n",
    "        self.uzunluk = uzunluk\n",
    "        self.genislik = genislik\n",
    "    \n",
    "    def alanhesapla(self):\n",
    "        return self.uzunluk*self.genislik\n",
    "\n",
    "    def cevrehesapla(self):\n",
    "        return 2*(self.uzunluk+self.genislik)\n",
    "dDortgen = Dikdortgen(25,30)"
   ]
  },
  {
   "cell_type": "code",
   "execution_count": null,
   "metadata": {},
   "outputs": [],
   "source": []
  }
 ],
 "metadata": {
  "kernelspec": {
   "display_name": "Python 3",
   "language": "python",
   "name": "python3"
  },
  "language_info": {
   "codemirror_mode": {
    "name": "ipython",
    "version": 3
   },
   "file_extension": ".py",
   "mimetype": "text/x-python",
   "name": "python",
   "nbconvert_exporter": "python",
   "pygments_lexer": "ipython3",
   "version": "3.12.4"
  }
 },
 "nbformat": 4,
 "nbformat_minor": 2
}
