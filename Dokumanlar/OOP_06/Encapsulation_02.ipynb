{
 "cells": [
  {
   "cell_type": "markdown",
   "metadata": {},
   "source": [
    "# Encapsulation"
   ]
  },
  {
   "cell_type": "code",
   "execution_count": 14,
   "metadata": {},
   "outputs": [
    {
     "name": "stdout",
     "output_type": "stream",
     "text": [
      "<class 'uuid.UUID'>\n"
     ]
    }
   ],
   "source": [
    "import uuid\n",
    "\n",
    "myuuid = uuid.uuid4()\n",
    "print(type(myuuid))"
   ]
  },
  {
   "cell_type": "code",
   "execution_count": 4,
   "metadata": {},
   "outputs": [
    {
     "name": "stdout",
     "output_type": "stream",
     "text": [
      "Melek\n",
      "Melek\n"
     ]
    },
    {
     "ename": "AttributeError",
     "evalue": "'Hayvan' object has no attribute '__kimlikNo'",
     "output_type": "error",
     "traceback": [
      "\u001b[0;31m---------------------------------------------------------------------------\u001b[0m",
      "\u001b[0;31mAttributeError\u001b[0m                            Traceback (most recent call last)",
      "Cell \u001b[0;32mIn[4], line 15\u001b[0m\n\u001b[1;32m     13\u001b[0m melek\u001b[38;5;241m.\u001b[39misminiSoyle()\n\u001b[1;32m     14\u001b[0m \u001b[38;5;28mprint\u001b[39m(melek\u001b[38;5;241m.\u001b[39misim)\n\u001b[0;32m---> 15\u001b[0m \u001b[38;5;28mprint\u001b[39m(\u001b[43mmelek\u001b[49m\u001b[38;5;241;43m.\u001b[39;49m\u001b[43m__kimlikNo\u001b[49m)\n",
      "\u001b[0;31mAttributeError\u001b[0m: 'Hayvan' object has no attribute '__kimlikNo'"
     ]
    }
   ],
   "source": [
    "import uuid\n",
    "class Hayvan:\n",
    "    def __init__(self,tur,isim,yas):\n",
    "        self.tur = tur\n",
    "        self.isim = isim\n",
    "        self.yas = yas\n",
    "        self.__kimlikNo = uuid.uuid4()\n",
    "\n",
    "    def isminiSoyle(self):\n",
    "        print(self.isim) \n",
    "\n",
    "melek = Hayvan(\"Kedi\",\"Melek\",\"4\")\n",
    "melek.isminiSoyle()\n",
    "print(melek.isim)\n",
    "print(melek.__kimlikNo)\n"
   ]
  },
  {
   "cell_type": "markdown",
   "metadata": {},
   "source": [
    "```\n",
    "__gizli => gizli\n",
    "__gizli_ => gizli\n",
    "__gizli__ => GİZLİ DEĞİL\n",
    "_yarigizli => yarı gizli dikkat etmek için kullanılır\n",
    "```"
   ]
  },
  {
   "cell_type": "code",
   "execution_count": 11,
   "metadata": {},
   "outputs": [
    {
     "name": "stdout",
     "output_type": "stream",
     "text": [
      "Melek\n"
     ]
    },
    {
     "data": {
      "text/plain": [
       "UUID('5b2588ca-9301-46cd-bb0d-1e924047aa50')"
      ]
     },
     "execution_count": 11,
     "metadata": {},
     "output_type": "execute_result"
    }
   ],
   "source": [
    "import uuid\n",
    "class Hayvan:\n",
    "    def __init__(self,tur,isim,yas):\n",
    "        self.tur = tur\n",
    "        self.isim = isim\n",
    "        self.yas = yas\n",
    "        self.__kimlikNo = uuid.uuid4()\n",
    "\n",
    "    def kimlikNo(self): # getter\n",
    "        return self.__kimlikNo\n",
    "\n",
    "    def isminiSoyle(self):\n",
    "        print(self.isim) \n",
    "\n",
    "melek = Hayvan(\"Kedi\",\"Melek\",\"4\")\n",
    "melek.isminiSoyle()\n",
    "melek.kimlikNo() ##########"
   ]
  },
  {
   "cell_type": "code",
   "execution_count": 12,
   "metadata": {},
   "outputs": [
    {
     "name": "stdout",
     "output_type": "stream",
     "text": [
      "Melek\n"
     ]
    },
    {
     "data": {
      "text/plain": [
       "UUID('ce9e5ae6-52d3-4c16-ab90-f1733618d8bc')"
      ]
     },
     "execution_count": 12,
     "metadata": {},
     "output_type": "execute_result"
    }
   ],
   "source": [
    "import uuid\n",
    "class Hayvan:\n",
    "    def __init__(self,tur,isim,yas):\n",
    "        self.tur = tur\n",
    "        self.isim = isim\n",
    "        self.yas = yas\n",
    "        self.__kimlikNo = uuid.uuid4()\n",
    "\n",
    "    @property\n",
    "    def kimlikNo(self): # getter\n",
    "        return self.__kimlikNo\n",
    "\n",
    "    def isminiSoyle(self):\n",
    "        print(self.isim) \n",
    "\n",
    "melek = Hayvan(\"Kedi\",\"Melek\",\"4\")\n",
    "melek.isminiSoyle()\n",
    "melek.kimlikNo ##################"
   ]
  },
  {
   "cell_type": "code",
   "execution_count": 18,
   "metadata": {},
   "outputs": [
    {
     "name": "stdout",
     "output_type": "stream",
     "text": [
      "Melek\n",
      "642f6893-1af3-418f-8648-b09b2dd8f1a2\n",
      "SİLİNEMEZ\n"
     ]
    },
    {
     "ename": "Exception",
     "evalue": "Silme Hatası",
     "output_type": "error",
     "traceback": [
      "\u001b[0;31m---------------------------------------------------------------------------\u001b[0m",
      "\u001b[0;31mException\u001b[0m                                 Traceback (most recent call last)",
      "Cell \u001b[0;32mIn[18], line 32\u001b[0m\n\u001b[1;32m     30\u001b[0m \u001b[38;5;28mprint\u001b[39m(melek\u001b[38;5;241m.\u001b[39mkimlikNo) \u001b[38;5;66;03m##################\u001b[39;00m\n\u001b[1;32m     31\u001b[0m melek\u001b[38;5;241m.\u001b[39mkimlikNo \u001b[38;5;241m=\u001b[39m uuid\u001b[38;5;241m.\u001b[39muuid4()\n\u001b[0;32m---> 32\u001b[0m \u001b[38;5;28;01mdel\u001b[39;00m \u001b[43mmelek\u001b[49m\u001b[38;5;241;43m.\u001b[39;49m\u001b[43mkimlikNo\u001b[49m\n",
      "Cell \u001b[0;32mIn[18], line 23\u001b[0m, in \u001b[0;36mHayvan.kimlikNo\u001b[0;34m(self)\u001b[0m\n\u001b[1;32m     20\u001b[0m \u001b[38;5;129m@kimlikNo\u001b[39m\u001b[38;5;241m.\u001b[39mdeleter\n\u001b[1;32m     21\u001b[0m \u001b[38;5;28;01mdef\u001b[39;00m \u001b[38;5;21mkimlikNo\u001b[39m(\u001b[38;5;28mself\u001b[39m):\n\u001b[1;32m     22\u001b[0m     \u001b[38;5;28mprint\u001b[39m(\u001b[38;5;124m\"\u001b[39m\u001b[38;5;124mSİLİNEMEZ\u001b[39m\u001b[38;5;124m\"\u001b[39m)\n\u001b[0;32m---> 23\u001b[0m     \u001b[38;5;28;01mraise\u001b[39;00m \u001b[38;5;167;01mException\u001b[39;00m(\u001b[38;5;124m\"\u001b[39m\u001b[38;5;124mSilme Hatası\u001b[39m\u001b[38;5;124m\"\u001b[39m)\n",
      "\u001b[0;31mException\u001b[0m: Silme Hatası"
     ]
    }
   ],
   "source": [
    "import uuid\n",
    "class Hayvan:\n",
    "    def __init__(self,tur,isim,yas):\n",
    "        self.tur = tur\n",
    "        self.isim = isim\n",
    "        self.yas = yas\n",
    "        self.__kimlikNo = uuid.uuid4()\n",
    "\n",
    "    @property\n",
    "    def kimlikNo(self): # getter\n",
    "        return self.__kimlikNo\n",
    "\n",
    "    @kimlikNo.setter\n",
    "    def kimlikNo(self,param1):\n",
    "        if isinstance(param1,uuid.UUID):\n",
    "            self.__kimlikNo = param1\n",
    "        else:\n",
    "            raise ValueError(\"Değer Hata\")\n",
    "\n",
    "    @kimlikNo.deleter\n",
    "    def kimlikNo(self):\n",
    "        print(\"SİLİNEMEZ\")\n",
    "        raise Exception(\"Silme Hatası\")\n",
    "\n",
    "    def isminiSoyle(self):\n",
    "        print(self.isim) \n",
    "\n",
    "melek = Hayvan(\"Kedi\",\"Melek\",\"4\")\n",
    "melek.isminiSoyle()\n",
    "print(melek.kimlikNo) ##################\n",
    "melek.kimlikNo = uuid.uuid4()\n",
    "del melek.kimlikNo\n"
   ]
  },
  {
   "cell_type": "code",
   "execution_count": null,
   "metadata": {},
   "outputs": [],
   "source": []
  }
 ],
 "metadata": {
  "kernelspec": {
   "display_name": "Python 3",
   "language": "python",
   "name": "python3"
  },
  "language_info": {
   "codemirror_mode": {
    "name": "ipython",
    "version": 3
   },
   "file_extension": ".py",
   "mimetype": "text/x-python",
   "name": "python",
   "nbconvert_exporter": "python",
   "pygments_lexer": "ipython3",
   "version": "3.12.4"
  }
 },
 "nbformat": 4,
 "nbformat_minor": 2
}
