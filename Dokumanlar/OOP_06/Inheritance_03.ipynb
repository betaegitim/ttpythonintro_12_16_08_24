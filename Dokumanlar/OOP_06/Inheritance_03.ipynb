{
 "cells": [
  {
   "cell_type": "markdown",
   "metadata": {},
   "source": [
    "# Inheritance\n"
   ]
  },
  {
   "cell_type": "code",
   "execution_count": 1,
   "metadata": {},
   "outputs": [],
   "source": [
    "class A:\n",
    "    def __init__(self):\n",
    "        self.a = \"a\"\n",
    "    \n",
    "    def soyle(self):\n",
    "        print(\"A sınıfından çalıştım\")\n",
    "    \n",
    "    def soyleA(self):\n",
    "        print(self.a)\n",
    "\n",
    "class B(A):\n",
    "    pass"
   ]
  },
  {
   "cell_type": "code",
   "execution_count": 2,
   "metadata": {},
   "outputs": [
    {
     "name": "stdout",
     "output_type": "stream",
     "text": [
      "<class '__main__.A'>\n",
      "<class '__main__.B'>\n"
     ]
    }
   ],
   "source": [
    "obj1 = A()\n",
    "obj2 = B()\n",
    "print(type(obj1))\n",
    "print(type(obj2))"
   ]
  },
  {
   "cell_type": "code",
   "execution_count": 4,
   "metadata": {},
   "outputs": [
    {
     "name": "stdout",
     "output_type": "stream",
     "text": [
      "A sınıfından çalıştım\n",
      "A sınıfından çalıştım\n"
     ]
    }
   ],
   "source": [
    "a = A()\n",
    "b = B()\n",
    "a.soyle()\n",
    "b.soyle()"
   ]
  },
  {
   "cell_type": "code",
   "execution_count": 11,
   "metadata": {},
   "outputs": [
    {
     "name": "stdout",
     "output_type": "stream",
     "text": [
      "b\n",
      "a\n"
     ]
    }
   ],
   "source": [
    "class A: # parent super\n",
    "    def __init__(self):\n",
    "        self.a = \"a\"\n",
    "    \n",
    "    def soyle(self):\n",
    "        print(\"A sınıfından çalıştım\")\n",
    "    \n",
    "    def soyleA(self):\n",
    "        print(self.a)\n",
    "\n",
    "class B(A): # child \n",
    "    def __init__(self):\n",
    "        super().__init__()\n",
    "        self.b = \"b\"\n",
    "\n",
    "    def soyleB(self):\n",
    "        print(self.b)\n",
    "\n",
    "a = A()\n",
    "b = B()\n",
    "b.soyleB()\n",
    "a.soyleA()"
   ]
  },
  {
   "cell_type": "markdown",
   "metadata": {},
   "source": [
    "## Multiple Inheritance"
   ]
  },
  {
   "cell_type": "code",
   "execution_count": 7,
   "metadata": {},
   "outputs": [
    {
     "name": "stdout",
     "output_type": "stream",
     "text": [
      "a\n",
      "b\n",
      "c\n",
      "A sınıfından çalıştım\n"
     ]
    },
    {
     "data": {
      "text/plain": [
       "['__class__',\n",
       " '__delattr__',\n",
       " '__dict__',\n",
       " '__dir__',\n",
       " '__doc__',\n",
       " '__eq__',\n",
       " '__format__',\n",
       " '__ge__',\n",
       " '__getattribute__',\n",
       " '__getstate__',\n",
       " '__gt__',\n",
       " '__hash__',\n",
       " '__init__',\n",
       " '__init_subclass__',\n",
       " '__le__',\n",
       " '__lt__',\n",
       " '__module__',\n",
       " '__ne__',\n",
       " '__new__',\n",
       " '__reduce__',\n",
       " '__reduce_ex__',\n",
       " '__repr__',\n",
       " '__setattr__',\n",
       " '__sizeof__',\n",
       " '__str__',\n",
       " '__subclasshook__',\n",
       " '__weakref__',\n",
       " 'a',\n",
       " 'b',\n",
       " 'c',\n",
       " 'soyle',\n",
       " 'soyleA',\n",
       " 'soyleB',\n",
       " 'soyleC']"
      ]
     },
     "execution_count": 7,
     "metadata": {},
     "output_type": "execute_result"
    }
   ],
   "source": [
    "class A: # parent super\n",
    "    def __init__(self):\n",
    "        self.a = \"a\"\n",
    "    \n",
    "    def soyle(self):\n",
    "        print(\"A sınıfından çalıştım\")\n",
    "    \n",
    "    def soyleA(self):\n",
    "        print(self.a)\n",
    "\n",
    "class B: # parent super\n",
    "    def __init__(self):\n",
    "        self.b = \"b\"\n",
    "    \n",
    "    def soyle(self):\n",
    "        print(\"B sınıfından çalıştım\")\n",
    "    \n",
    "    def soyleB(self):\n",
    "        print(self.b)\n",
    "    \n",
    "class C(A,B):\n",
    "    def __init__(self):\n",
    "        A.__init__(self)\n",
    "        B.__init__(self)\n",
    "        self.c = \"c\"\n",
    "\n",
    "    def soyleC(self):\n",
    "        print(self.c)\n",
    "    \n",
    "c = C()\n",
    "c.soyleA()\n",
    "c.soyleB()\n",
    "c.soyleC()\n",
    "c.soyle()"
   ]
  },
  {
   "cell_type": "markdown",
   "metadata": {},
   "source": [
    "![alt text](diagram.svg \"Title\")"
   ]
  },
  {
   "cell_type": "code",
   "execution_count": null,
   "metadata": {},
   "outputs": [],
   "source": []
  }
 ],
 "metadata": {
  "kernelspec": {
   "display_name": "Python 3",
   "language": "python",
   "name": "python3"
  },
  "language_info": {
   "codemirror_mode": {
    "name": "ipython",
    "version": 3
   },
   "file_extension": ".py",
   "mimetype": "text/x-python",
   "name": "python",
   "nbconvert_exporter": "python",
   "pygments_lexer": "ipython3",
   "version": "3.12.4"
  }
 },
 "nbformat": 4,
 "nbformat_minor": 2
}
