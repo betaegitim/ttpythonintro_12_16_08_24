{
 "cells": [
  {
   "cell_type": "markdown",
   "metadata": {},
   "source": [
    "# Inheritance\n"
   ]
  },
  {
   "cell_type": "code",
   "execution_count": 1,
   "metadata": {},
   "outputs": [],
   "source": [
    "class A:\n",
    "    def __init__(self):\n",
    "        self.a = \"a\"\n",
    "    \n",
    "    def soyle(self):\n",
    "        print(\"A sınıfından çalıştım\")\n",
    "    \n",
    "    def soyleA(self):\n",
    "        print(self.a)\n",
    "\n",
    "class B(A):\n",
    "    pass"
   ]
  },
  {
   "cell_type": "code",
   "execution_count": 2,
   "metadata": {},
   "outputs": [
    {
     "name": "stdout",
     "output_type": "stream",
     "text": [
      "<class '__main__.A'>\n",
      "<class '__main__.B'>\n"
     ]
    }
   ],
   "source": [
    "obj1 = A()\n",
    "obj2 = B()\n",
    "print(type(obj1))\n",
    "print(type(obj2))"
   ]
  },
  {
   "cell_type": "code",
   "execution_count": 4,
   "metadata": {},
   "outputs": [
    {
     "name": "stdout",
     "output_type": "stream",
     "text": [
      "A sınıfından çalıştım\n",
      "A sınıfından çalıştım\n"
     ]
    }
   ],
   "source": [
    "a = A()\n",
    "b = B()\n",
    "a.soyle()\n",
    "b.soyle()"
   ]
  },
  {
   "cell_type": "code",
   "execution_count": 11,
   "metadata": {},
   "outputs": [
    {
     "name": "stdout",
     "output_type": "stream",
     "text": [
      "b\n",
      "a\n"
     ]
    }
   ],
   "source": [
    "class A: # parent super\n",
    "    def __init__(self):\n",
    "        self.a = \"a\"\n",
    "    \n",
    "    def soyle(self):\n",
    "        print(\"A sınıfından çalıştım\")\n",
    "    \n",
    "    def soyleA(self):\n",
    "        print(self.a)\n",
    "\n",
    "class B(A): # child \n",
    "    def __init__(self):\n",
    "        super().__init__()\n",
    "        self.b = \"b\"\n",
    "\n",
    "    def soyleB(self):\n",
    "        print(self.b)\n",
    "\n",
    "a = A()\n",
    "b = B()\n",
    "b.soyleB()\n",
    "a.soyleA()"
   ]
  },
  {
   "cell_type": "code",
   "execution_count": null,
   "metadata": {},
   "outputs": [],
   "source": []
  }
 ],
 "metadata": {
  "kernelspec": {
   "display_name": "Python 3",
   "language": "python",
   "name": "python3"
  },
  "language_info": {
   "codemirror_mode": {
    "name": "ipython",
    "version": 3
   },
   "file_extension": ".py",
   "mimetype": "text/x-python",
   "name": "python",
   "nbconvert_exporter": "python",
   "pygments_lexer": "ipython3",
   "version": "3.12.4"
  }
 },
 "nbformat": 4,
 "nbformat_minor": 2
}
