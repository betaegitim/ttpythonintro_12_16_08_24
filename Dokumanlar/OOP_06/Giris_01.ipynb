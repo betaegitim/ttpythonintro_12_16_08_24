{
 "cells": [
  {
   "cell_type": "markdown",
   "metadata": {},
   "source": [
    "# Object Oriented Programming\n",
    "* Sınıf ve Nesne => Class and Instance\n",
    "* Metot ve Özellik => Method and Attribute\n",
    "* Örnek Class"
   ]
  },
  {
   "cell_type": "markdown",
   "metadata": {},
   "source": [
    "## Class and Instance"
   ]
  },
  {
   "cell_type": "code",
   "execution_count": 2,
   "metadata": {},
   "outputs": [],
   "source": [
    "class Sinif: # Sınıf\n",
    "    pass\n",
    "obj1 = Sinif() # Instance\n",
    "obj2 = Sinif() # Instance"
   ]
  },
  {
   "cell_type": "code",
   "execution_count": 1,
   "metadata": {},
   "outputs": [
    {
     "name": "stdout",
     "output_type": "stream",
     "text": [
      "<class 'int'>\n"
     ]
    }
   ],
   "source": [
    "a = 2\n",
    "print(type(a))"
   ]
  },
  {
   "cell_type": "code",
   "execution_count": 3,
   "metadata": {},
   "outputs": [
    {
     "name": "stdout",
     "output_type": "stream",
     "text": [
      "<class 'builtin_function_or_method'>\n"
     ]
    }
   ],
   "source": [
    "print(type(print))"
   ]
  },
  {
   "cell_type": "markdown",
   "metadata": {},
   "source": [
    "## Method and Attribute\n",
    "* Class Method\n",
    "* Class Attribute\n",
    "* Instance Method\n",
    "* Intance Attribute"
   ]
  },
  {
   "cell_type": "code",
   "execution_count": null,
   "metadata": {},
   "outputs": [],
   "source": [
    "class Sinif: # Sınıf\n",
    "    sinifOzelligi = \"SINIF ÖZELLİĞİ\"\n",
    "    def __init__(self): # constructor\n",
    "        self.ornekOzellik = \"ÖRNEK ÖZELLİĞİ\"\n",
    "    \n",
    "    def ornekMethod(self):\n",
    "        print(\"ÖRNEK METHOD ÇALIŞTI\")\n",
    "        print(self.ornekOzellik)\n",
    "\n",
    "    @classmethod # decorator\n",
    "    def sinifMetodu(cls):\n",
    "        print(\"SINIF METHOD ÇALIŞTI\")\n",
    "        print(cls.sinifOzelligi)\n",
    "    \n"
   ]
  },
  {
   "cell_type": "code",
   "execution_count": 12,
   "metadata": {},
   "outputs": [],
   "source": [
    "class Sinif: # Sınıf\n",
    "    sinifOzelligi = \"SINIF ÖZELLİĞİ\"\n",
    "    def __init__(self,param1): # constructor\n",
    "        self.ornekOzellik = param1 # instance attribute\n",
    "    \n",
    "    def ornekMethod(self): # instance method \n",
    "        print(\"ÖRNEK METHOD ÇALIŞTI\",self.ornekOzellik)\n",
    "\n",
    "    @classmethod # decorator\n",
    "    def sinifMetodu(cls):\n",
    "        print(\"SINIF METHOD ÇALIŞTI\")\n",
    "        print(cls.sinifOzelligi)\n",
    "obj1 = Sinif(\"A\")\n",
    "obj2 = Sinif(\"B\")"
   ]
  },
  {
   "cell_type": "code",
   "execution_count": 10,
   "metadata": {},
   "outputs": [
    {
     "name": "stdout",
     "output_type": "stream",
     "text": [
      "ÖRNEK METHOD ÇALIŞTI A\n"
     ]
    }
   ],
   "source": [
    "obj1.ornekMethod()"
   ]
  },
  {
   "cell_type": "code",
   "execution_count": 11,
   "metadata": {},
   "outputs": [
    {
     "name": "stdout",
     "output_type": "stream",
     "text": [
      "ÖRNEK METHOD ÇALIŞTI B\n"
     ]
    }
   ],
   "source": [
    "obj2.ornekMethod()"
   ]
  },
  {
   "cell_type": "code",
   "execution_count": 18,
   "metadata": {},
   "outputs": [
    {
     "data": {
      "text/plain": [
       "'A'"
      ]
     },
     "execution_count": 18,
     "metadata": {},
     "output_type": "execute_result"
    }
   ],
   "source": [
    "obj1.ornekOzellik"
   ]
  },
  {
   "cell_type": "code",
   "execution_count": 14,
   "metadata": {},
   "outputs": [
    {
     "data": {
      "text/plain": [
       "'B'"
      ]
     },
     "execution_count": 14,
     "metadata": {},
     "output_type": "execute_result"
    }
   ],
   "source": [
    "obj2.ornekOzellik"
   ]
  },
  {
   "cell_type": "code",
   "execution_count": 15,
   "metadata": {},
   "outputs": [
    {
     "name": "stdout",
     "output_type": "stream",
     "text": [
      "SINIF METHOD ÇALIŞTI\n",
      "SINIF ÖZELLİĞİ\n",
      "SINIF METHOD ÇALIŞTI\n",
      "SINIF ÖZELLİĞİ\n",
      "SINIF METHOD ÇALIŞTI\n",
      "SINIF ÖZELLİĞİ\n"
     ]
    }
   ],
   "source": [
    "Sinif.sinifMetodu()\n",
    "obj1.sinifMetodu()\n",
    "obj2.sinifMetodu()"
   ]
  },
  {
   "cell_type": "code",
   "execution_count": 17,
   "metadata": {},
   "outputs": [
    {
     "name": "stdout",
     "output_type": "stream",
     "text": [
      "SINIF ÖZELLİĞİ\n",
      "SINIF ÖZELLİĞİ\n",
      "SINIF ÖZELLİĞİ\n"
     ]
    }
   ],
   "source": [
    "print(obj1.sinifOzelligi)\n",
    "print(obj2.sinifOzelligi)\n",
    "print(Sinif.sinifOzelligi)"
   ]
  },
  {
   "cell_type": "markdown",
   "metadata": {},
   "source": [
    "Hülagü Orçun Çokgenlerle ilgili bir ödev yapmaktadır. Ödev çokgenlerin yönetilebileceği bir sınıf oluşturması üzerinedir. "
   ]
  },
  {
   "cell_type": "code",
   "execution_count": 19,
   "metadata": {},
   "outputs": [
    {
     "data": {
      "text/plain": [
       "' \\nüçgen\\nbeşgen\\nkare\\naltıgen\\n'"
      ]
     },
     "execution_count": 19,
     "metadata": {},
     "output_type": "execute_result"
    }
   ],
   "source": [
    "\"\"\" \n",
    "üçgen\n",
    "beşgen\n",
    "kare\n",
    "altıgen\n",
    "\"\"\"\n",
    "# çokgen\n",
    "\n",
    "# içaçıların toplamı\n",
    "# kenarsayısı\n",
    "# isim"
   ]
  },
  {
   "cell_type": "code",
   "execution_count": 22,
   "metadata": {},
   "outputs": [
    {
     "name": "stdout",
     "output_type": "stream",
     "text": [
      "##############################\n",
      "Üçgen1 3 180\n",
      "##############################\n",
      "##############################\n",
      "Üçgen2 3 180\n",
      "##############################\n",
      "##############################\n",
      "Kare 4 360\n",
      "##############################\n"
     ]
    }
   ],
   "source": [
    "class Cokgen:\n",
    "    tip = \"Çokgen\"\n",
    "    def __init__(self,kenarsayi,isim):\n",
    "        self.isim = isim\n",
    "        if isinstance(kenarsayi,int) and kenarsayi > 2:\n",
    "            self.icAciToplam = (kenarsayi-2)*180\n",
    "            self.kenarsayi = kenarsayi\n",
    "        else:\n",
    "            raise ValueError(\"Kenar Sayısı Kontrol edilmeli\")\n",
    "        self.cokgenBilgi()\n",
    "    \n",
    "    def cokgenBilgi(self):\n",
    "        print(\"#\"*30)\n",
    "        print(self.isim,self.kenarsayi,self.icAciToplam)\n",
    "        print(\"#\"*30)\n",
    "a = Cokgen(3,\"Üçgen1\")\n",
    "b = Cokgen(3,\"Üçgen2\")\n",
    "c = Cokgen(4,\"Kare\")"
   ]
  },
  {
   "cell_type": "code",
   "execution_count": 23,
   "metadata": {},
   "outputs": [
    {
     "data": {
      "text/plain": [
       "('Çokgen', 'Çokgen', 'Çokgen')"
      ]
     },
     "execution_count": 23,
     "metadata": {},
     "output_type": "execute_result"
    }
   ],
   "source": [
    "a.tip,b.tip,c.tip"
   ]
  },
  {
   "cell_type": "markdown",
   "metadata": {},
   "source": [
    "* Encapsulation => Kapsülleme\n",
    "* Inheritance => Kalıtım\n",
    "* Polymorphism => Çok Biçimlilik\n",
    "* Abstraction => Soyutlama"
   ]
  },
  {
   "cell_type": "code",
   "execution_count": null,
   "metadata": {},
   "outputs": [],
   "source": []
  }
 ],
 "metadata": {
  "kernelspec": {
   "display_name": "Python 3",
   "language": "python",
   "name": "python3"
  },
  "language_info": {
   "codemirror_mode": {
    "name": "ipython",
    "version": 3
   },
   "file_extension": ".py",
   "mimetype": "text/x-python",
   "name": "python",
   "nbconvert_exporter": "python",
   "pygments_lexer": "ipython3",
   "version": "3.12.4"
  }
 },
 "nbformat": 4,
 "nbformat_minor": 2
}
