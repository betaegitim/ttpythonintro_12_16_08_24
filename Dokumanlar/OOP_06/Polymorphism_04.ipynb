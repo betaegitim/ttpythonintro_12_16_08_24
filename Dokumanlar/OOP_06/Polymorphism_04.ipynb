{
 "cells": [
  {
   "cell_type": "markdown",
   "metadata": {},
   "source": [
    "# Polymorphism => Çok Biçimlilik"
   ]
  },
  {
   "cell_type": "code",
   "execution_count": 1,
   "metadata": {},
   "outputs": [
    {
     "name": "stdout",
     "output_type": "stream",
     "text": [
      "1\n",
      "2\n"
     ]
    }
   ],
   "source": [
    "print(1)\n",
    "print(\"2\")"
   ]
  },
  {
   "cell_type": "code",
   "execution_count": 3,
   "metadata": {},
   "outputs": [
    {
     "name": "stdout",
     "output_type": "stream",
     "text": [
      "5\n",
      "6\n"
     ]
    }
   ],
   "source": [
    "def fonk(a,b):\n",
    "    return a+b\n",
    "def fonk2(a,b):\n",
    "    return a*b\n",
    "liste = [fonk,fonk2]\n",
    "for item in liste:\n",
    "    print(item(2,3))"
   ]
  },
  {
   "cell_type": "code",
   "execution_count": null,
   "metadata": {},
   "outputs": [],
   "source": [
    "class A: # parent super\n",
    "    def __init__(self):\n",
    "        self.a = \"a\"\n",
    "    \n",
    "    def soyle(self):\n",
    "        print(\"A sınıfından çalıştım\")\n",
    "    \n",
    "    def soyleA(self):\n",
    "        print(self.a)\n",
    "\n",
    "class B(A): # child \n",
    "    def __init__(self): #overload\n",
    "        super().__init__()\n",
    "        self.b = \"b\"\n",
    "\n",
    "    def soyle(self): # override \n",
    "        print(\"B sınıfından çalıştım\") \n",
    "\n",
    "    def soyleB(self):\n",
    "        print(self.b)"
   ]
  },
  {
   "cell_type": "code",
   "execution_count": 4,
   "metadata": {},
   "outputs": [
    {
     "name": "stdout",
     "output_type": "stream",
     "text": [
      "A sınıfından çalıştım\n",
      "B sınıfından çalıştım\n"
     ]
    }
   ],
   "source": [
    "class A: # parent super\n",
    "    def __init__(self):\n",
    "        self.a = \"a\"\n",
    "    \n",
    "    def soyle(self):\n",
    "        print(\"A sınıfından çalıştım\")\n",
    "    \n",
    "    def soyleA(self):\n",
    "        print(self.a)\n",
    "\n",
    "class B: # parent super\n",
    "    def __init__(self):\n",
    "        self.b = \"b\"\n",
    "    \n",
    "    def soyle(self):\n",
    "        print(\"B sınıfından çalıştım\")\n",
    "    \n",
    "    def soyleB(self):\n",
    "        print(self.b)\n",
    "\n",
    "objA = A()\n",
    "objB = B()\n",
    "def fonk(obj):\n",
    "    obj.soyle()\n",
    "liste = [objA,objB]\n",
    "for item in liste:\n",
    "    fonk(item)"
   ]
  },
  {
   "cell_type": "code",
   "execution_count": 5,
   "metadata": {},
   "outputs": [
    {
     "data": {
      "text/plain": [
       "'Rafta'"
      ]
     },
     "execution_count": 5,
     "metadata": {},
     "output_type": "execute_result"
    }
   ],
   "source": [
    "class Kitap:\n",
    "    def __init__(self, isbn, baslik, yazar, yayinevi, yayin_yili):\n",
    "        self.isbn = isbn\n",
    "        self.baslik = baslik\n",
    "        self.yazar = yazar\n",
    "        self.yayinevi = yayinevi\n",
    "        self.yayin_yili = yayin_yili\n",
    "        self.durum = \"Rafta\"  # Rafta, Ödünç, Kayıp gibi durumlar\n",
    "\n",
    "    def ode_ucret(self):\n",
    "        if self.durum == \"Kayıp\":\n",
    "            # Kayıp kitap için ücret hesaplama işlemi\n",
    "            print(\"Kayıp kitap için ücret hesaplandı.\")\n",
    "\n",
    "class Uye:\n",
    "    def __init__(self, ad, soyad, uyeno, telefon):\n",
    "        self.ad = ad\n",
    "        self.soyad = soyad\n",
    "        self.uyeno = uyeno\n",
    "        self.telefon = telefon\n",
    "        self.odunc_kitaplar = []\n",
    "\n",
    "    def kitap_odunc_al(self, kitap):\n",
    "        self.odunc_kitaplar.append(kitap)\n",
    "        kitap.durum = \"Ödünç\"\n",
    "\n",
    "    def kitap_teslim_et(self, kitap):\n",
    "        self.odunc_kitaplar.remove(kitap)\n",
    "        kitap.durum = \"Rafta\"\n",
    "\n",
    "class Calisan:\n",
    "    def __init__(self, ad, soyad, calisan_no, gorev):\n",
    "        self.ad = ad\n",
    "        self.soyad = soyad\n",
    "        self.calisan_no = calisan_no\n",
    "        self.gorev = gorev\n",
    "\n",
    "    def kitap_ekle(self, kitap):\n",
    "        # Kütüphane kataloğuna kitap ekleme işlemi\n",
    "        print(\"Kitap kütüphane kataloğuna eklendi.\")\n",
    "\n",
    "# Nesneler oluşturma\n",
    "kitap1 = Kitap(\"978-3-16-148410-0\", \"Yüzüklerin Efendisi\", \"J.R.R. Tolkien\", \"İthaki\", 2005)\n",
    "uye1 = Uye(\"Ali\", \"Veli\", 12345, \"5554443322\")\n",
    "\n",
    "# Kitap ödünç alma\n",
    "uye1.kitap_odunc_al(kitap1)\n",
    "\n",
    "# Kitap teslim etme\n",
    "uye1.kitap_teslim_et(kitap1)\n"
   ]
  },
  {
   "cell_type": "code",
   "execution_count": null,
   "metadata": {},
   "outputs": [],
   "source": []
  }
 ],
 "metadata": {
  "kernelspec": {
   "display_name": "Python 3",
   "language": "python",
   "name": "python3"
  },
  "language_info": {
   "codemirror_mode": {
    "name": "ipython",
    "version": 3
   },
   "file_extension": ".py",
   "mimetype": "text/x-python",
   "name": "python",
   "nbconvert_exporter": "python",
   "pygments_lexer": "ipython3",
   "version": "3.12.4"
  }
 },
 "nbformat": 4,
 "nbformat_minor": 2
}
