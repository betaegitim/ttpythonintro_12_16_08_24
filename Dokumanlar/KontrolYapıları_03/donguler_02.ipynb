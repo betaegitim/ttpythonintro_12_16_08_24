{
 "cells": [
  {
   "cell_type": "markdown",
   "metadata": {},
   "source": [
    "# Döngüler\n",
    "* range\n",
    "* for\n",
    "* while\n",
    "* break\n",
    "* continue\n",
    "* else"
   ]
  },
  {
   "cell_type": "code",
   "execution_count": 2,
   "metadata": {},
   "outputs": [
    {
     "name": "stdout",
     "output_type": "stream",
     "text": [
      "1 2 3 4 T ü r k\n"
     ]
    }
   ],
   "source": [
    "print(*[1,2,3,4],*\"Türk\")"
   ]
  },
  {
   "cell_type": "markdown",
   "metadata": {},
   "source": [
    "## range\n",
    "```\n",
    "range(baslangic=0,bitis-1,adim=1)\n",
    "```"
   ]
  },
  {
   "cell_type": "code",
   "execution_count": 3,
   "metadata": {},
   "outputs": [
    {
     "data": {
      "text/plain": [
       "range(1, 4)"
      ]
     },
     "execution_count": 3,
     "metadata": {},
     "output_type": "execute_result"
    }
   ],
   "source": [
    "range(1,4)"
   ]
  },
  {
   "cell_type": "code",
   "execution_count": 12,
   "metadata": {},
   "outputs": [
    {
     "name": "stdout",
     "output_type": "stream",
     "text": [
      "1 2 3\n"
     ]
    }
   ],
   "source": [
    "print(*range(1,4))"
   ]
  },
  {
   "cell_type": "code",
   "execution_count": 5,
   "metadata": {},
   "outputs": [
    {
     "name": "stdout",
     "output_type": "stream",
     "text": [
      "2 3 4 5 6 7 8 9\n"
     ]
    }
   ],
   "source": [
    "# 2 den 10 a kadar bir sayac için\n",
    "print(*range(2,10))"
   ]
  },
  {
   "cell_type": "code",
   "execution_count": 8,
   "metadata": {},
   "outputs": [
    {
     "name": "stdout",
     "output_type": "stream",
     "text": [
      "5 10 15 20 25 30 35 40 45\n"
     ]
    }
   ],
   "source": [
    "# 5 ten 50 ye kadar 10 adımlı  bir sayac için\n",
    "print(*range(5,50,5))"
   ]
  },
  {
   "cell_type": "code",
   "execution_count": 10,
   "metadata": {},
   "outputs": [
    {
     "name": "stdout",
     "output_type": "stream",
     "text": [
      "0 1 2 3 4 5 6 7 8 9\n",
      "0 1 2 3 4 5 6 7 8 9\n"
     ]
    }
   ],
   "source": [
    "print(*range(0,10))\n",
    "print(*range(10))"
   ]
  },
  {
   "cell_type": "code",
   "execution_count": 11,
   "metadata": {},
   "outputs": [
    {
     "name": "stdout",
     "output_type": "stream",
     "text": [
      "20 18 16 14 12\n"
     ]
    }
   ],
   "source": [
    "print(*range(20,10,-2))"
   ]
  },
  {
   "cell_type": "markdown",
   "metadata": {},
   "source": [
    "## for"
   ]
  },
  {
   "cell_type": "code",
   "execution_count": 1,
   "metadata": {},
   "outputs": [
    {
     "name": "stdout",
     "output_type": "stream",
     "text": [
      "0\n",
      "1\n",
      "2\n",
      "3\n",
      "4\n"
     ]
    }
   ],
   "source": [
    "for i in range(5):\n",
    "    print(i)"
   ]
  },
  {
   "cell_type": "code",
   "execution_count": 3,
   "metadata": {},
   "outputs": [
    {
     "name": "stdout",
     "output_type": "stream",
     "text": [
      "0 => B\n",
      "1 => E\n",
      "2 => T\n",
      "3 => A\n"
     ]
    }
   ],
   "source": [
    "metin = \"BETA\"\n",
    "#        0123\n",
    "for i in range(len(metin)):\n",
    "    print(i,\"=>\",metin[i])"
   ]
  },
  {
   "cell_type": "code",
   "execution_count": 4,
   "metadata": {},
   "outputs": [
    {
     "name": "stdout",
     "output_type": "stream",
     "text": [
      "B\n",
      "E\n",
      "T\n",
      "A\n"
     ]
    }
   ],
   "source": [
    "#foreach obj in objects\n",
    "metin = \"BETA\"\n",
    "for item in metin:\n",
    "    print(item)"
   ]
  },
  {
   "cell_type": "code",
   "execution_count": 5,
   "metadata": {},
   "outputs": [
    {
     "name": "stdout",
     "output_type": "stream",
     "text": [
      "1\n",
      "4\n",
      "9\n",
      "16\n"
     ]
    }
   ],
   "source": [
    "liste = [1,2,3,4]\n",
    "for item in liste:\n",
    "    print(item**2)"
   ]
  },
  {
   "cell_type": "code",
   "execution_count": 6,
   "metadata": {},
   "outputs": [
    {
     "name": "stdout",
     "output_type": "stream",
     "text": [
      "1\n",
      "4\n",
      "9\n",
      "16\n",
      "25\n"
     ]
    }
   ],
   "source": [
    "demet = 1,2,3,4,5\n",
    "for item in demet:\n",
    "    print(item**2)"
   ]
  },
  {
   "cell_type": "code",
   "execution_count": 8,
   "metadata": {},
   "outputs": [
    {
     "name": "stdout",
     "output_type": "stream",
     "text": [
      "1\n",
      "2\n"
     ]
    }
   ],
   "source": [
    "sozluk = {\n",
    "    \"1\":\"Bir\",\n",
    "    \"2\":\"İki\"\n",
    "}\n",
    "for item in sozluk:\n",
    "    print(item)"
   ]
  },
  {
   "cell_type": "code",
   "execution_count": 9,
   "metadata": {},
   "outputs": [
    {
     "data": {
      "text/plain": [
       "dict_items([('1', 'Bir'), ('2', 'İki')])"
      ]
     },
     "execution_count": 9,
     "metadata": {},
     "output_type": "execute_result"
    }
   ],
   "source": [
    "sozluk.items()"
   ]
  },
  {
   "cell_type": "code",
   "execution_count": 12,
   "metadata": {},
   "outputs": [
    {
     "name": "stdout",
     "output_type": "stream",
     "text": [
      "1 Bir\n"
     ]
    }
   ],
   "source": [
    "key,value = ('1', 'Bir')\n",
    "print(key,value)"
   ]
  },
  {
   "cell_type": "code",
   "execution_count": 10,
   "metadata": {},
   "outputs": [
    {
     "name": "stdout",
     "output_type": "stream",
     "text": [
      "1 : Bir\n",
      "2 : İki\n"
     ]
    }
   ],
   "source": [
    "sozluk = {\n",
    "    \"1\":\"Bir\",\n",
    "    \"2\":\"İki\"\n",
    "}\n",
    "for key,value in sozluk.items():\n",
    "    print(key,\":\",value)\n"
   ]
  },
  {
   "cell_type": "code",
   "execution_count": 11,
   "metadata": {},
   "outputs": [
    {
     "name": "stdout",
     "output_type": "stream",
     "text": [
      "0 1 0 1 1 0 1\n"
     ]
    }
   ],
   "source": [
    "a,b,c,d,e,f,g = \"0101101\"\n",
    "print(a,b,c,d,e,f,g)"
   ]
  },
  {
   "cell_type": "markdown",
   "metadata": {},
   "source": [
    "Örnek Soru:\n",
    "Girilen sayıya kadar asal sayıları listeleyen python programını yazınız"
   ]
  },
  {
   "cell_type": "code",
   "execution_count": 3,
   "metadata": {},
   "outputs": [
    {
     "name": "stdout",
     "output_type": "stream",
     "text": [
      "2\n",
      "3\n",
      "5\n"
     ]
    }
   ],
   "source": [
    "sayi = input(\"Sayıyı Giriniz:\")\n",
    "if sayi.isdigit():\n",
    "    sayi = int(sayi)\n",
    "    for i in range(2,sayi+1):\n",
    "        # asal kontrol\n",
    "        for j in range(2,i):\n",
    "            if i % j == 0:\n",
    "                break\n",
    "        else:\n",
    "            print(i)\n",
    "    "
   ]
  },
  {
   "cell_type": "markdown",
   "metadata": {},
   "source": [
    "##### fibanocci serisi sorusu"
   ]
  },
  {
   "cell_type": "code",
   "execution_count": 8,
   "metadata": {},
   "outputs": [
    {
     "name": "stdout",
     "output_type": "stream",
     "text": [
      "1 1\n",
      "2\n",
      "3\n",
      "5\n",
      "8\n"
     ]
    }
   ],
   "source": [
    "a = 1\n",
    "b = 1\n",
    "print(a,b)\n",
    "c = a + b\n",
    "print(c)\n",
    "a = b\n",
    "b = c\n",
    "c = a + b\n",
    "print(c)\n",
    "a = b\n",
    "b = c\n",
    "c = a + b\n",
    "print(c)\n",
    "a = b\n",
    "b = c\n",
    "c = a + b\n",
    "print(c)"
   ]
  },
  {
   "cell_type": "code",
   "execution_count": 10,
   "metadata": {},
   "outputs": [
    {
     "name": "stdout",
     "output_type": "stream",
     "text": [
      "2\n",
      "3\n",
      "5\n",
      "8\n",
      "13\n"
     ]
    }
   ],
   "source": [
    "a = b = 1\n",
    "print(a+b)\n",
    "a,b = b,(a+b)\n",
    "print(a+b)\n",
    "a,b = b,(a+b)\n",
    "print(a+b)\n",
    "a,b = b,(a+b)\n",
    "print(a+b)\n",
    "a,b = b,(a+b)\n",
    "print(a+b)\n",
    "a,b = b,(a+b)"
   ]
  },
  {
   "cell_type": "code",
   "execution_count": 13,
   "metadata": {},
   "outputs": [
    {
     "name": "stdout",
     "output_type": "stream",
     "text": [
      "1\n",
      "1\n",
      "2 1.0\n",
      "3 0.5\n",
      "5 0.6666666666666666\n",
      "8 0.6\n",
      "13 0.625\n",
      "21 0.6153846153846154\n",
      "34 0.6190476190476191\n",
      "55 0.6176470588235294\n",
      "89 0.6181818181818182\n",
      "144 0.6179775280898876\n",
      "233 0.6180555555555556\n",
      "377 0.6180257510729614\n",
      "610 0.6180371352785146\n",
      "987 0.6180327868852459\n",
      "1597 0.6180344478216818\n",
      "2584 0.6180338134001252\n",
      "4181 0.6180340557275542\n",
      "6765 0.6180339631667066\n",
      "10946 0.6180339985218034\n",
      "17711 0.618033985017358\n"
     ]
    }
   ],
   "source": [
    "a = b = 1\n",
    "print(a,b,sep=\"\\n\")\n",
    "for i in range(20):\n",
    "    print(a+b,a/b)\n",
    "    a,b = b,(a+b)"
   ]
  },
  {
   "cell_type": "code",
   "execution_count": 15,
   "metadata": {},
   "outputs": [
    {
     "name": "stdout",
     "output_type": "stream",
     "text": [
      "6\n"
     ]
    }
   ],
   "source": [
    "sayi = input(\"Sayıyı Giriniz:\")\n",
    "if sayi.isdigit():\n",
    "    sayi = int(sayi)\n",
    "    toplam = 0\n",
    "    for i in range(0,sayi+1):\n",
    "        # toplam = toplam + i \n",
    "        toplam += i\n",
    "print(toplam)"
   ]
  },
  {
   "cell_type": "code",
   "execution_count": null,
   "metadata": {},
   "outputs": [],
   "source": []
  }
 ],
 "metadata": {
  "kernelspec": {
   "display_name": "Python 3",
   "language": "python",
   "name": "python3"
  },
  "language_info": {
   "codemirror_mode": {
    "name": "ipython",
    "version": 3
   },
   "file_extension": ".py",
   "mimetype": "text/x-python",
   "name": "python",
   "nbconvert_exporter": "python",
   "pygments_lexer": "ipython3",
   "version": "3.12.4"
  }
 },
 "nbformat": 4,
 "nbformat_minor": 2
}
