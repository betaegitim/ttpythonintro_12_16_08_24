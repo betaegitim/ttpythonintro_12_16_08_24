{
 "cells": [
  {
   "cell_type": "markdown",
   "metadata": {},
   "source": [
    "<!-- begin if\n",
    "end if\n",
    "sub\n",
    "end sub\n",
    "{}\n",
    "() -->\n",
    "# Karşılaştırma Yapıları\n",
    "* indentitation\n",
    "* if ve else\n",
    "* elif\n",
    "* tek satırda if yazımı"
   ]
  },
  {
   "cell_type": "markdown",
   "metadata": {},
   "source": [
    "```\n",
    "a = 3\n",
    "if a == 2:\n",
    "---->print(\"Doğru\") ---> indentitation girinti\n",
    "print(\"Çalışmaya devam\")\n",
    "```"
   ]
  },
  {
   "cell_type": "code",
   "execution_count": 4,
   "metadata": {},
   "outputs": [
    {
     "name": "stdout",
     "output_type": "stream",
     "text": [
      "Doğru\n",
      "girinti devam ediyor\n",
      "sayı Tek\n",
      "Çalışmaya devam\n"
     ]
    }
   ],
   "source": [
    "a = 3\n",
    "if a != 2:\n",
    "    print(\"Doğru\")\n",
    "    print(\"girinti devam ediyor\")\n",
    "    if a % 2 > 0:\n",
    "        print(\"sayı Tek\")\n",
    "print(\"Çalışmaya devam\")"
   ]
  },
  {
   "cell_type": "markdown",
   "metadata": {},
   "source": [
    "## if ve else"
   ]
  },
  {
   "cell_type": "code",
   "execution_count": 6,
   "metadata": {},
   "outputs": [],
   "source": [
    "a = 6\n",
    "if a % 2 > 0:\n",
    "    print(\"Tek\")"
   ]
  },
  {
   "cell_type": "code",
   "execution_count": 7,
   "metadata": {},
   "outputs": [
    {
     "name": "stdout",
     "output_type": "stream",
     "text": [
      "Çift\n"
     ]
    }
   ],
   "source": [
    "a = 6\n",
    "if a % 2 > 0:\n",
    "    print(\"Tek\")\n",
    "else:\n",
    "    print(\"Çift\")"
   ]
  },
  {
   "cell_type": "code",
   "execution_count": 13,
   "metadata": {},
   "outputs": [
    {
     "name": "stdout",
     "output_type": "stream",
     "text": [
      "Boş\n"
     ]
    }
   ],
   "source": [
    "a = 0\n",
    "b = []\n",
    "c = \"\"\n",
    "d = {}\n",
    "if b:\n",
    "    print(\"Dolu\")\n",
    "else:\n",
    "    print(\"Boş\")"
   ]
  },
  {
   "cell_type": "code",
   "execution_count": 15,
   "metadata": {},
   "outputs": [
    {
     "name": "stdout",
     "output_type": "stream",
     "text": [
      "Giriş Yaptınız\n"
     ]
    }
   ],
   "source": [
    "giris = input(\"Sayıyı Giriniz:\")\n",
    "if giris:\n",
    "    print(\"Giriş Yaptınız\")\n",
    "else:\n",
    "    print(\"Giriş Yapılmadı\")"
   ]
  },
  {
   "cell_type": "code",
   "execution_count": 17,
   "metadata": {},
   "outputs": [
    {
     "data": {
      "text/plain": [
       "False"
      ]
     },
     "execution_count": 17,
     "metadata": {},
     "output_type": "execute_result"
    }
   ],
   "source": [
    "giris = \"a\"\n",
    "giris.isdigit()"
   ]
  },
  {
   "cell_type": "code",
   "execution_count": 19,
   "metadata": {},
   "outputs": [
    {
     "name": "stdout",
     "output_type": "stream",
     "text": [
      "<class 'int'>\n"
     ]
    }
   ],
   "source": [
    "a = 2\n",
    "print(type(a))"
   ]
  },
  {
   "cell_type": "code",
   "execution_count": 21,
   "metadata": {},
   "outputs": [
    {
     "data": {
      "text/plain": [
       "True"
      ]
     },
     "execution_count": 21,
     "metadata": {},
     "output_type": "execute_result"
    }
   ],
   "source": [
    "isinstance(a,int)"
   ]
  },
  {
   "cell_type": "markdown",
   "metadata": {},
   "source": [
    "### Örnek Soru"
   ]
  },
  {
   "cell_type": "code",
   "execution_count": 24,
   "metadata": {},
   "outputs": [
    {
     "name": "stdout",
     "output_type": "stream",
     "text": [
      "34 Çift\n"
     ]
    }
   ],
   "source": [
    "sayi = input(\"Sayıyı Giriniz:\") # str\n",
    "if sayi and sayi.isdigit():\n",
    "    sayi = int(sayi)\n",
    "    if sayi % 2 == 0:\n",
    "        print(sayi,\"Çift\")\n",
    "    else:\n",
    "        print(sayi,\"Tek\")\n",
    "else:\n",
    "    print(\"Giriş Hatası\")"
   ]
  },
  {
   "cell_type": "markdown",
   "metadata": {},
   "source": [
    "## elif"
   ]
  },
  {
   "cell_type": "code",
   "execution_count": 28,
   "metadata": {},
   "outputs": [
    {
     "name": "stdout",
     "output_type": "stream",
     "text": [
      "AA\n"
     ]
    }
   ],
   "source": [
    "\"\"\"\n",
    "AA 100 - 85\n",
    "BB 84  - 70\n",
    "CC 69  - 55\n",
    "DD 54  - 45\n",
    "Kaldın  45 ten küçük\n",
    "\"\"\"\n",
    "notu = input(\"Notunuzu Giriniz:\")\n",
    "if notu.isdigit():\n",
    "    notu = int(notu)\n",
    "    if 85 <= notu <= 100: # 85 <= notu and notu <= 100\n",
    "        print(\"AA\")\n",
    "    else:\n",
    "        if 70 <= notu <= 84:\n",
    "            print(\"BB\")\n",
    "        else:        \n",
    "            if 55 <= notu <= 69:\n",
    "                print(\"CC\")\n",
    "            else:\n",
    "                if 45 <= notu <= 54:\n",
    "                    print(\"DD\")\n",
    "                else:\n",
    "                    print(\"Kaldın\")\n",
    "else:\n",
    "    print(\"Giriş Hatası\")\n"
   ]
  },
  {
   "cell_type": "code",
   "execution_count": 29,
   "metadata": {},
   "outputs": [
    {
     "name": "stdout",
     "output_type": "stream",
     "text": [
      "DD\n"
     ]
    }
   ],
   "source": [
    "\"\"\"\n",
    "AA 100 - 85\n",
    "BB 84  - 70\n",
    "CC 69  - 55\n",
    "DD 54  - 45\n",
    "Kaldın  45 ten küçük\n",
    "\"\"\"\n",
    "notu = input(\"Notunuzu Giriniz:\")\n",
    "if notu.isdigit():\n",
    "    notu = int(notu)\n",
    "    if 85 <= notu <= 100: # 85 <= notu and notu <= 100\n",
    "        print(\"AA\")\n",
    "    elif 70 <= notu <= 84:\n",
    "        print(\"BB\")\n",
    "    elif 55 <= notu <= 69:\n",
    "        print(\"CC\")\n",
    "    elif 45 <= notu <= 54:\n",
    "        print(\"DD\")\n",
    "    else:\n",
    "        print(\"Kaldın\")\n",
    "else:\n",
    "    print(\"Giriş Hatası\")"
   ]
  },
  {
   "cell_type": "markdown",
   "metadata": {},
   "source": [
    "## Match Case"
   ]
  },
  {
   "cell_type": "markdown",
   "metadata": {},
   "source": [
    "```\n",
    "match expression:\n",
    "    case pattern1:\n",
    "        # pattern1 ile eşleşirse yapılacak işlemler\n",
    "    case pattern2:\n",
    "        # pattern2 ile eşleşirse yapılacak işlemler\n",
    "    case _:\n",
    "        # Hiçbiriyle eşleşmezse yapılacak işlemler\n",
    "```"
   ]
  },
  {
   "cell_type": "code",
   "execution_count": 4,
   "metadata": {},
   "outputs": [
    {
     "name": "stdout",
     "output_type": "stream",
     "text": [
      "String\n"
     ]
    }
   ],
   "source": [
    "a = 2\n",
    "b = 2.0\n",
    "c = \"TT\"\n",
    "d = [1,2,3]\n",
    "e = (1,2,3)\n",
    "f = {\"1\":\"Bir\"}\n",
    "degisken = c\n",
    "match degisken:\n",
    "    case int():\n",
    "        print(\"Int\")\n",
    "    case str():\n",
    "        print(\"String\")\n",
    "    case float():\n",
    "        print(\"Float\")\n",
    "    case _:\n",
    "        print(\"Bilinmiyor\")"
   ]
  },
  {
   "cell_type": "code",
   "execution_count": 5,
   "metadata": {},
   "outputs": [
    {
     "name": "stdout",
     "output_type": "stream",
     "text": [
      "İşlem yapılıyor kaydet\n"
     ]
    }
   ],
   "source": [
    "komut = input(\"Komutu Giriniz:\")\n",
    "\n",
    "match komut:\n",
    "    case \"çık\":\n",
    "        print(\"Çıkış Yapıyorum\")\n",
    "    case \"kaydet\" as emir:\n",
    "        print(f\"İşlem yapılıyor {emir}\")\n",
    "    case _:\n",
    "        print(\"Komut Bilinmiyor,\")"
   ]
  },
  {
   "cell_type": "code",
   "execution_count": 9,
   "metadata": {},
   "outputs": [],
   "source": [
    "liste = [1,2,3,4,5]\n",
    "match liste:\n",
    "    case []:\n",
    "        print(\"Boş\")\n",
    "    case [1,2,3,4,5]:\n",
    "        print(\"Dolu\")\n"
   ]
  },
  {
   "cell_type": "code",
   "execution_count": null,
   "metadata": {},
   "outputs": [],
   "source": []
  }
 ],
 "metadata": {
  "kernelspec": {
   "display_name": "Python 3",
   "language": "python",
   "name": "python3"
  },
  "language_info": {
   "codemirror_mode": {
    "name": "ipython",
    "version": 3
   },
   "file_extension": ".py",
   "mimetype": "text/x-python",
   "name": "python",
   "nbconvert_exporter": "python",
   "pygments_lexer": "ipython3",
   "version": "3.12.4"
  }
 },
 "nbformat": 4,
 "nbformat_minor": 2
}
