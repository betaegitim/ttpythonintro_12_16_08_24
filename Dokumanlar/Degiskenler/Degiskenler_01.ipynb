{
 "cells": [
  {
   "cell_type": "markdown",
   "metadata": {},
   "source": [
    "# Değişkenler\n",
    "* Değişken tanımlama kuralları\n",
    "* Değişken tanımlama\n",
    "* Değişkenin tipini öğrenme\n",
    "* Değişken tipleri\n",
    "    - int\n",
    "    - float\n",
    "    - complex\n",
    "    - str\n",
    "    - list\n",
    "    - tuple\n",
    "    - dict\n",
    "    - set\n",
    "    - bool"
   ]
  },
  {
   "cell_type": "markdown",
   "metadata": {},
   "source": [
    "## Değişken tanımlama kuralları\n",
    "1. sayı ile başlayamaz\n",
    "2. `_` dışında bir noktalama işareti ve boşluk kullanılamaz\n",
    "3. rezerve kelimelerin kullanılmaması önerilir.\n",
    "```\n",
    "import keyword as kw\n",
    "kw.kwlist\n",
    "```"
   ]
  },
  {
   "cell_type": "markdown",
   "metadata": {},
   "source": [
    "## Değişken tanımlama"
   ]
  },
  {
   "cell_type": "code",
   "execution_count": 2,
   "metadata": {},
   "outputs": [],
   "source": [
    "var1 = 5"
   ]
  },
  {
   "cell_type": "code",
   "execution_count": 1,
   "metadata": {},
   "outputs": [],
   "source": [
    "a = b = 5"
   ]
  },
  {
   "cell_type": "code",
   "execution_count": 3,
   "metadata": {},
   "outputs": [],
   "source": [
    "a,b = 5,4"
   ]
  },
  {
   "cell_type": "code",
   "execution_count": 1,
   "metadata": {},
   "outputs": [
    {
     "name": "stdout",
     "output_type": "stream",
     "text": [
      "Merhaba TEst\n"
     ]
    }
   ],
   "source": [
    "isim = input(\"İsiminizi Giriniz:\")\n",
    "print(\"Merhaba\",isim)"
   ]
  },
  {
   "cell_type": "code",
   "execution_count": null,
   "metadata": {},
   "outputs": [],
   "source": []
  }
 ],
 "metadata": {
  "kernelspec": {
   "display_name": "Python 3",
   "language": "python",
   "name": "python3"
  },
  "language_info": {
   "codemirror_mode": {
    "name": "ipython",
    "version": 3
   },
   "file_extension": ".py",
   "mimetype": "text/x-python",
   "name": "python",
   "nbconvert_exporter": "python",
   "pygments_lexer": "ipython3",
   "version": "3.12.4"
  }
 },
 "nbformat": 4,
 "nbformat_minor": 2
}
