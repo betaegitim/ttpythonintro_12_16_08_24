{
 "cells": [
  {
   "cell_type": "markdown",
   "metadata": {},
   "source": [
    "# Değişkenler\n",
    "* Değişken tanımlama kuralları\n",
    "* Değişken tanımlama\n",
    "* Değişkenin tipini öğrenme\n",
    "* Değişken tipleri\n",
    "    - int\n",
    "    - float\n",
    "    - complex\n",
    "    - str\n",
    "    - list\n",
    "    - tuple\n",
    "    - dict\n",
    "    - set\n",
    "    - bool"
   ]
  },
  {
   "cell_type": "markdown",
   "metadata": {},
   "source": [
    "## Değişken tanımlama kuralları\n",
    "1. sayı ile başlayamaz\n",
    "2. `_` dışında bir noktalama işareti ve boşluk kullanılamaz\n",
    "3. rezerve kelimelerin kullanılmaması önerilir.\n",
    "```\n",
    "import keyword as kw\n",
    "kw.kwlist\n",
    "```"
   ]
  },
  {
   "cell_type": "markdown",
   "metadata": {},
   "source": [
    "## Değişken tanımlama"
   ]
  },
  {
   "cell_type": "code",
   "execution_count": 2,
   "metadata": {},
   "outputs": [],
   "source": [
    "var1 = 5"
   ]
  },
  {
   "cell_type": "code",
   "execution_count": 1,
   "metadata": {},
   "outputs": [],
   "source": [
    "a = b = 5"
   ]
  },
  {
   "cell_type": "code",
   "execution_count": 3,
   "metadata": {},
   "outputs": [],
   "source": [
    "a,b = 5,4"
   ]
  },
  {
   "cell_type": "code",
   "execution_count": 1,
   "metadata": {},
   "outputs": [
    {
     "name": "stdout",
     "output_type": "stream",
     "text": [
      "Merhaba Test\n"
     ]
    }
   ],
   "source": [
    "isim = input(\"İsiminizi Giriniz:\")\n",
    "print(\"Merhaba\",isim)"
   ]
  },
  {
   "cell_type": "markdown",
   "metadata": {},
   "source": [
    "## Değişkenin tipini öğrenme `type(var1)`"
   ]
  },
  {
   "cell_type": "code",
   "execution_count": 2,
   "metadata": {},
   "outputs": [],
   "source": [
    "a = 5\n",
    "a = \"5\""
   ]
  },
  {
   "cell_type": "code",
   "execution_count": 3,
   "metadata": {},
   "outputs": [
    {
     "data": {
      "text/plain": [
       "'5'"
      ]
     },
     "execution_count": 3,
     "metadata": {},
     "output_type": "execute_result"
    }
   ],
   "source": [
    "a"
   ]
  },
  {
   "cell_type": "code",
   "execution_count": 4,
   "metadata": {},
   "outputs": [
    {
     "data": {
      "text/plain": [
       "5"
      ]
     },
     "execution_count": 4,
     "metadata": {},
     "output_type": "execute_result"
    }
   ],
   "source": [
    "a = 5\n",
    "a"
   ]
  },
  {
   "cell_type": "code",
   "execution_count": 6,
   "metadata": {},
   "outputs": [
    {
     "name": "stdout",
     "output_type": "stream",
     "text": [
      "<class 'int'>\n"
     ]
    }
   ],
   "source": [
    "a = 5\n",
    "type(a)\n",
    "print(type(a))"
   ]
  },
  {
   "cell_type": "markdown",
   "metadata": {},
   "source": [
    "## Değişken Tipleri\n",
    "    - int\n",
    "    - float\n",
    "    - complex\n",
    "    - str\n",
    "    - list\n",
    "    - tuple\n",
    "    - dict\n",
    "    - set\n",
    "    - bool"
   ]
  },
  {
   "cell_type": "code",
   "execution_count": 8,
   "metadata": {},
   "outputs": [
    {
     "name": "stdout",
     "output_type": "stream",
     "text": [
      "var1= 2 Değişkenin Tipi: <class 'int'>\n"
     ]
    }
   ],
   "source": [
    "var1 = 0\n",
    "var1 = 2\n",
    "print(\"var1=\",var1,\"Değişkenin Tipi:\",type(var1))"
   ]
  },
  {
   "cell_type": "code",
   "execution_count": 18,
   "metadata": {},
   "outputs": [
    {
     "name": "stdout",
     "output_type": "stream",
     "text": [
      "var2= 2.5 Değişkenin Tipi: <class 'float'>\n"
     ]
    }
   ],
   "source": [
    "var2 = 0.0\n",
    "var2 = 2.5\n",
    "print(\"var2=\",var2,\"Değişkenin Tipi:\",type(var2))"
   ]
  },
  {
   "cell_type": "code",
   "execution_count": 19,
   "metadata": {},
   "outputs": [
    {
     "name": "stdout",
     "output_type": "stream",
     "text": [
      "var3= (2.5+4j) Değişkenin Tipi: <class 'complex'>\n"
     ]
    }
   ],
   "source": [
    "var3 = 0.0 + 0j\n",
    "var3 = 2.5 + 4j\n",
    "print(\"var3=\",var3,\"Değişkenin Tipi:\",type(var3))"
   ]
  },
  {
   "cell_type": "code",
   "execution_count": 12,
   "metadata": {},
   "outputs": [
    {
     "name": "stdout",
     "output_type": "stream",
     "text": [
      "var4= Beta Değişkenin Tipi: <class 'str'>\n"
     ]
    }
   ],
   "source": [
    "var4 = \"\"\n",
    "var4 = \"Beta\"\n",
    "print(\"var4=\",var4,\"Değişkenin Tipi:\",type(var4))"
   ]
  },
  {
   "cell_type": "code",
   "execution_count": 21,
   "metadata": {},
   "outputs": [
    {
     "name": "stdout",
     "output_type": "stream",
     "text": [
      "var5= [1, 2, 3, 'a', 'b', 'c'] Değişkenin Tipi: <class 'list'>\n"
     ]
    }
   ],
   "source": [
    "var5 = []\n",
    "var5 = [1,2,3,\"a\",\"b\",\"c\"]\n",
    "print(\"var5=\",var5,\"Değişkenin Tipi:\",type(var5))"
   ]
  },
  {
   "cell_type": "code",
   "execution_count": 20,
   "metadata": {},
   "outputs": [
    {
     "name": "stdout",
     "output_type": "stream",
     "text": [
      "var6= (1, 2, 3, 'a', 'b', 'c') Değişkenin Tipi: <class 'tuple'>\n"
     ]
    }
   ],
   "source": [
    "var6 = ()\n",
    "var6 = (1,2,3,\"a\",\"b\",\"c\")\n",
    "print(\"var6=\",var6,\"Değişkenin Tipi:\",type(var6))"
   ]
  },
  {
   "cell_type": "code",
   "execution_count": 22,
   "metadata": {},
   "outputs": [
    {
     "name": "stdout",
     "output_type": "stream",
     "text": [
      "var7= {'1': 'Bir', '2': 'İki'} Değişkenin Tipi: <class 'dict'>\n"
     ]
    }
   ],
   "source": [
    "var7 = {}\n",
    "var7 = {\"1\":\"Bir\",\"2\":\"İki\"}\n",
    "print(\"var7=\",var7,\"Değişkenin Tipi:\",type(var7))"
   ]
  },
  {
   "cell_type": "code",
   "execution_count": 23,
   "metadata": {},
   "outputs": [
    {
     "name": "stdout",
     "output_type": "stream",
     "text": [
      "var8= {1, 2, 3, 4, 12} Değişkenin Tipi: <class 'set'>\n"
     ]
    }
   ],
   "source": [
    "var8 = set()\n",
    "var8 = {1,2,3,4,4,1,1,2,2,3,2,1,12}\n",
    "print(\"var8=\",var8,\"Değişkenin Tipi:\",type(var8))"
   ]
  },
  {
   "cell_type": "code",
   "execution_count": 17,
   "metadata": {},
   "outputs": [
    {
     "name": "stdout",
     "output_type": "stream",
     "text": [
      "var9= False Değişkenin Tipi: <class 'bool'>\n"
     ]
    }
   ],
   "source": [
    "var9 = False\n",
    "print(\"var9 =\",var9,\"Değişkenin Tipi:\",type(var9)# ###asdasdasdasdasd)"
   ]
  },
  {
   "cell_type": "code",
   "execution_count": 30,
   "metadata": {},
   "outputs": [
    {
     "name": "stdout",
     "output_type": "stream",
     "text": [
      "Boş\n"
     ]
    }
   ],
   "source": [
    "# var1 = []\n",
    "# if var1:\n",
    "#     print(\"Dolu\")\n",
    "# else:\n",
    "#     print(\"Boş\")"
   ]
  },
  {
   "cell_type": "markdown",
   "metadata": {},
   "source": [
    "# Python'da Herşey Nesnedir"
   ]
  }
 ],
 "metadata": {
  "kernelspec": {
   "display_name": "Python 3",
   "language": "python",
   "name": "python3"
  },
  "language_info": {
   "codemirror_mode": {
    "name": "ipython",
    "version": 3
   },
   "file_extension": ".py",
   "mimetype": "text/x-python",
   "name": "python",
   "nbconvert_exporter": "python",
   "pygments_lexer": "ipython3",
   "version": "3.12.4"
  }
 },
 "nbformat": 4,
 "nbformat_minor": 2
}
