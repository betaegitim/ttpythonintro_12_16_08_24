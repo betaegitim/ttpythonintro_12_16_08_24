{
 "cells": [
  {
   "cell_type": "markdown",
   "metadata": {},
   "source": [
    "<!-- begin if\n",
    "end if\n",
    "sub\n",
    "end sub\n",
    "{}\n",
    "() -->\n",
    "# Karşılaştırma Yapıları\n",
    "* indentitation\n",
    "* if ve else\n",
    "* elif\n",
    "* tek satırda if yazımı"
   ]
  },
  {
   "cell_type": "markdown",
   "metadata": {},
   "source": [
    "```\n",
    "a = 3\n",
    "if a == 2:\n",
    "---->print(\"Doğru\") ---> indentitation girinti\n",
    "print(\"Çalışmaya devam\")\n",
    "```"
   ]
  },
  {
   "cell_type": "code",
   "execution_count": 4,
   "metadata": {},
   "outputs": [
    {
     "name": "stdout",
     "output_type": "stream",
     "text": [
      "Doğru\n",
      "girinti devam ediyor\n",
      "sayı Tek\n",
      "Çalışmaya devam\n"
     ]
    }
   ],
   "source": [
    "a = 3\n",
    "if a != 2:\n",
    "    print(\"Doğru\")\n",
    "    print(\"girinti devam ediyor\")\n",
    "    if a % 2 > 0:\n",
    "        print(\"sayı Tek\")\n",
    "print(\"Çalışmaya devam\")"
   ]
  },
  {
   "cell_type": "markdown",
   "metadata": {},
   "source": [
    "## if ve else"
   ]
  },
  {
   "cell_type": "code",
   "execution_count": 6,
   "metadata": {},
   "outputs": [],
   "source": [
    "a = 6\n",
    "if a % 2 > 0:\n",
    "    print(\"Tek\")"
   ]
  },
  {
   "cell_type": "code",
   "execution_count": 7,
   "metadata": {},
   "outputs": [
    {
     "name": "stdout",
     "output_type": "stream",
     "text": [
      "Çift\n"
     ]
    }
   ],
   "source": [
    "a = 6\n",
    "if a % 2 > 0:\n",
    "    print(\"Tek\")\n",
    "else:\n",
    "    print(\"Çift\")"
   ]
  },
  {
   "cell_type": "code",
   "execution_count": 13,
   "metadata": {},
   "outputs": [
    {
     "name": "stdout",
     "output_type": "stream",
     "text": [
      "Boş\n"
     ]
    }
   ],
   "source": [
    "a = 0\n",
    "b = []\n",
    "c = \"\"\n",
    "d = {}\n",
    "if b:\n",
    "    print(\"Dolu\")\n",
    "else:\n",
    "    print(\"Boş\")"
   ]
  },
  {
   "cell_type": "code",
   "execution_count": 15,
   "metadata": {},
   "outputs": [
    {
     "name": "stdout",
     "output_type": "stream",
     "text": [
      "Giriş Yaptınız\n"
     ]
    }
   ],
   "source": [
    "giris = input(\"Sayıyı Giriniz:\")\n",
    "if giris:\n",
    "    print(\"Giriş Yaptınız\")\n",
    "else:\n",
    "    print(\"Giriş Yapılmadı\")"
   ]
  },
  {
   "cell_type": "code",
   "execution_count": 17,
   "metadata": {},
   "outputs": [
    {
     "data": {
      "text/plain": [
       "False"
      ]
     },
     "execution_count": 17,
     "metadata": {},
     "output_type": "execute_result"
    }
   ],
   "source": [
    "giris = \"a\"\n",
    "giris.isdigit()"
   ]
  },
  {
   "cell_type": "code",
   "execution_count": 19,
   "metadata": {},
   "outputs": [
    {
     "name": "stdout",
     "output_type": "stream",
     "text": [
      "<class 'int'>\n"
     ]
    }
   ],
   "source": [
    "a = 2\n",
    "print(type(a))"
   ]
  },
  {
   "cell_type": "code",
   "execution_count": 21,
   "metadata": {},
   "outputs": [
    {
     "data": {
      "text/plain": [
       "True"
      ]
     },
     "execution_count": 21,
     "metadata": {},
     "output_type": "execute_result"
    }
   ],
   "source": [
    "isinstance(a,int)"
   ]
  },
  {
   "cell_type": "markdown",
   "metadata": {},
   "source": [
    "### Örnek Soru"
   ]
  },
  {
   "cell_type": "code",
   "execution_count": 24,
   "metadata": {},
   "outputs": [
    {
     "name": "stdout",
     "output_type": "stream",
     "text": [
      "34 Çift\n"
     ]
    }
   ],
   "source": [
    "sayi = input(\"Sayıyı Giriniz:\") # str\n",
    "if sayi and sayi.isdigit():\n",
    "    sayi = int(sayi)\n",
    "    if sayi % 2 == 0:\n",
    "        print(sayi,\"Çift\")\n",
    "    else:\n",
    "        print(sayi,\"Tek\")\n",
    "else:\n",
    "    print(\"Giriş Hatası\")"
   ]
  },
  {
   "cell_type": "markdown",
   "metadata": {},
   "source": [
    "## elif"
   ]
  },
  {
   "cell_type": "code",
   "execution_count": 28,
   "metadata": {},
   "outputs": [
    {
     "name": "stdout",
     "output_type": "stream",
     "text": [
      "AA\n"
     ]
    }
   ],
   "source": [
    "\"\"\"\n",
    "AA 100 - 85\n",
    "BB 84  - 70\n",
    "CC 69  - 55\n",
    "DD 54  - 45\n",
    "Kaldın  45 ten küçük\n",
    "\"\"\"\n",
    "notu = input(\"Notunuzu Giriniz:\")\n",
    "if notu.isdigit():\n",
    "    notu = int(notu)\n",
    "    if 85 <= notu <= 100: # 85 <= notu and notu <= 100\n",
    "        print(\"AA\")\n",
    "    else:\n",
    "        if 70 <= notu <= 84:\n",
    "            print(\"BB\")\n",
    "        else:        \n",
    "            if 55 <= notu <= 69:\n",
    "                print(\"CC\")\n",
    "            else:\n",
    "                if 45 <= notu <= 54:\n",
    "                    print(\"DD\")\n",
    "                else:\n",
    "                    print(\"Kaldın\")\n",
    "else:\n",
    "    print(\"Giriş Hatası\")\n"
   ]
  },
  {
   "cell_type": "code",
   "execution_count": 29,
   "metadata": {},
   "outputs": [
    {
     "name": "stdout",
     "output_type": "stream",
     "text": [
      "DD\n"
     ]
    }
   ],
   "source": [
    "\"\"\"\n",
    "AA 100 - 85\n",
    "BB 84  - 70\n",
    "CC 69  - 55\n",
    "DD 54  - 45\n",
    "Kaldın  45 ten küçük\n",
    "\"\"\"\n",
    "notu = input(\"Notunuzu Giriniz:\")\n",
    "if notu.isdigit():\n",
    "    notu = int(notu)\n",
    "    if 85 <= notu <= 100: # 85 <= notu and notu <= 100\n",
    "        print(\"AA\")\n",
    "    elif 70 <= notu <= 84:\n",
    "        print(\"BB\")\n",
    "    elif 55 <= notu <= 69:\n",
    "        print(\"CC\")\n",
    "    elif 45 <= notu <= 54:\n",
    "        print(\"DD\")\n",
    "    else:\n",
    "        print(\"Kaldın\")\n",
    "else:\n",
    "    print(\"Giriş Hatası\")"
   ]
  },
  {
   "cell_type": "markdown",
   "metadata": {},
   "source": [
    "## Match Case"
   ]
  },
  {
   "cell_type": "code",
   "execution_count": null,
   "metadata": {},
   "outputs": [],
   "source": []
  }
 ],
 "metadata": {
  "kernelspec": {
   "display_name": "Python 3",
   "language": "python",
   "name": "python3"
  },
  "language_info": {
   "codemirror_mode": {
    "name": "ipython",
    "version": 3
   },
   "file_extension": ".py",
   "mimetype": "text/x-python",
   "name": "python",
   "nbconvert_exporter": "python",
   "pygments_lexer": "ipython3",
   "version": "3.12.4"
  }
 },
 "nbformat": 4,
 "nbformat_minor": 2
}
