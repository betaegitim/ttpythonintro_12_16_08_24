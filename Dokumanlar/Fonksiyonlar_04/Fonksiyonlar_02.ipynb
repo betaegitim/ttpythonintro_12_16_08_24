{
 "cells": [
  {
   "cell_type": "markdown",
   "metadata": {},
   "source": [
    "# Fonksiyonlar 2\n",
    "* lambda\n",
    "* global,nonlocal\n",
    "* gömülü fonksiyonlar"
   ]
  },
  {
   "cell_type": "markdown",
   "metadata": {},
   "source": [
    "## Lambda"
   ]
  },
  {
   "cell_type": "code",
   "execution_count": 3,
   "metadata": {},
   "outputs": [
    {
     "data": {
      "text/plain": [
       "5"
      ]
     },
     "execution_count": 3,
     "metadata": {},
     "output_type": "execute_result"
    }
   ],
   "source": [
    "def fonk(a,b):\n",
    "    return a+b\n",
    "fonk(2,3)"
   ]
  },
  {
   "cell_type": "code",
   "execution_count": 4,
   "metadata": {},
   "outputs": [
    {
     "data": {
      "text/plain": [
       "5"
      ]
     },
     "execution_count": 4,
     "metadata": {},
     "output_type": "execute_result"
    }
   ],
   "source": [
    "fonk = lambda a,b : a+b\n",
    "fonk(2,3)"
   ]
  },
  {
   "cell_type": "code",
   "execution_count": 5,
   "metadata": {},
   "outputs": [],
   "source": [
    "liste = [1,2,3,4,5,6,7]\n",
    "fonk = lambda x:x.strip().replace(\".com\",\"\")"
   ]
  },
  {
   "cell_type": "markdown",
   "metadata": {},
   "source": [
    "## global\n"
   ]
  },
  {
   "cell_type": "code",
   "execution_count": 3,
   "metadata": {},
   "outputs": [
    {
     "name": "stdout",
     "output_type": "stream",
     "text": [
      "1-Dışarıdaki a= 4\n",
      "Fonk içerisindeki a= 3\n",
      "2-Dışarıdaki a= 4\n"
     ]
    }
   ],
   "source": [
    "a = 4\n",
    "def testFonk():\n",
    "    a = 3\n",
    "    print(\"Fonk içerisindeki a=\",a)\n",
    "print(\"1-Dışarıdaki a=\",a) # 4\n",
    "testFonk() # 3\n",
    "print(\"2-Dışarıdaki a=\",a) # 4"
   ]
  },
  {
   "cell_type": "code",
   "execution_count": 3,
   "metadata": {},
   "outputs": [
    {
     "name": "stdout",
     "output_type": "stream",
     "text": [
      "1-Dışarıdaki a= 4\n",
      "Fonk içerisindeki a= 3\n",
      "2-Dışarıdaki a= 3\n"
     ]
    }
   ],
   "source": [
    "a = 4\n",
    "def testFonk():\n",
    "    global a\n",
    "    a = 3\n",
    "    print(\"Fonk içerisindeki a=\",a)\n",
    "print(\"1-Dışarıdaki a=\",a) # 4\n",
    "testFonk() # 3\n",
    "print(\"2-Dışarıdaki a=\",a) # 3"
   ]
  },
  {
   "cell_type": "markdown",
   "metadata": {},
   "source": [
    "## nonlocal"
   ]
  },
  {
   "cell_type": "code",
   "execution_count": 6,
   "metadata": {},
   "outputs": [
    {
     "name": "stdout",
     "output_type": "stream",
     "text": [
      "1-Dışarıdaki a= 4\n",
      "Fonk içerisindeki a= 3\n",
      "İç fonksiyondan a= 8\n",
      "2-Dışarıdaki a= 3\n"
     ]
    }
   ],
   "source": [
    "a = 4\n",
    "def testFonk():\n",
    "    global a\n",
    "    a = 3\n",
    "    print(\"Fonk içerisindeki a=\",a)\n",
    "    def icFonk():\n",
    "        a = 8\n",
    "        print(\"İç fonksiyondan a=\",a)\n",
    "    icFonk()\n",
    "print(\"1-Dışarıdaki a=\",a) # 4\n",
    "testFonk() # 3\n",
    "print(\"2-Dışarıdaki a=\",a) # 3"
   ]
  },
  {
   "cell_type": "code",
   "execution_count": 7,
   "metadata": {},
   "outputs": [
    {
     "name": "stdout",
     "output_type": "stream",
     "text": [
      "1-Dışarıdaki a= 4\n",
      "Fonk içerisindeki a= 3\n",
      "İç fonksiyondan a= 8\n",
      "2-Dışarıdaki a= 8\n"
     ]
    }
   ],
   "source": [
    "a = 4\n",
    "def testFonk():\n",
    "    a = 3\n",
    "    print(\"1-Fonk içerisindeki a=\",a)\n",
    "    def icFonk():\n",
    "        global a\n",
    "        a = 8\n",
    "        print(\"İç fonksiyondan a=\",a)\n",
    "    icFonk()\n",
    "    print(\"2-Fonk içerisindeki a=\",a)\n",
    "print(\"1-Dışarıdaki a=\",a) # 4\n",
    "testFonk() # 3\n",
    "print(\"2-Dışarıdaki a=\",a) # 3"
   ]
  },
  {
   "cell_type": "code",
   "execution_count": 56,
   "metadata": {},
   "outputs": [
    {
     "name": "stdout",
     "output_type": "stream",
     "text": [
      "1-Dışarıdaki a= 4\n",
      "1-Fonk içerisindeki a= 3\n",
      "İç fonksiyondan a= 8\n",
      "2-Fonk içerisindeki a= 8\n",
      "2-Dışarıdaki a= 4\n"
     ]
    }
   ],
   "source": [
    "a = 4\n",
    "def testFonk():\n",
    "    a = 3 # nonlocal\n",
    "    print(\"1-Fonk içerisindeki a=\",a)\n",
    "    def icFonk():\n",
    "        nonlocal a\n",
    "        a = 8\n",
    "        print(\"İç fonksiyondan a=\",a)\n",
    "    icFonk()\n",
    "    print(\"2-Fonk içerisindeki a=\",a)\n",
    "print(\"1-Dışarıdaki a=\",a) # 4\n",
    "testFonk() # 3\n",
    "print(\"2-Dışarıdaki a=\",a) # 3"
   ]
  },
  {
   "cell_type": "markdown",
   "metadata": {},
   "source": [
    "## gömülü fonksiyonlar\n",
    "* map\n",
    "* zip\n",
    "* filter\n",
    "* reduce\n",
    "* sorted\n",
    "* all,any"
   ]
  },
  {
   "cell_type": "code",
   "execution_count": 9,
   "metadata": {},
   "outputs": [
    {
     "name": "stdout",
     "output_type": "stream",
     "text": [
      "<map object at 0x7f6e700e59f0>\n"
     ]
    }
   ],
   "source": [
    "# map\n",
    "liste = [1,2,3,4,5,6]\n",
    "def fonk(x):\n",
    "    return x**2\n",
    "print(map(fonk,liste))"
   ]
  },
  {
   "cell_type": "code",
   "execution_count": 11,
   "metadata": {},
   "outputs": [
    {
     "name": "stdout",
     "output_type": "stream",
     "text": [
      "1 4 9 16 25 36\n",
      "[1, 4, 9, 16, 25, 36]\n"
     ]
    }
   ],
   "source": [
    "liste = [1,2,3,4,5,6]\n",
    "def fonk(x):\n",
    "    return x**2\n",
    "print(*map(fonk,liste))\n",
    "print(list(map(fonk,liste)))"
   ]
  },
  {
   "cell_type": "code",
   "execution_count": 13,
   "metadata": {},
   "outputs": [
    {
     "data": {
      "text/plain": [
       "[False, True, False, True, False, True]"
      ]
     },
     "execution_count": 13,
     "metadata": {},
     "output_type": "execute_result"
    }
   ],
   "source": [
    "liste = [1,2,3,4,5,6]\n",
    "list(map(lambda x:x%2==0,liste))"
   ]
  },
  {
   "cell_type": "code",
   "execution_count": 15,
   "metadata": {},
   "outputs": [
    {
     "data": {
      "text/plain": [
       "[1, 4, 9, 16, 25, 36]"
      ]
     },
     "execution_count": 15,
     "metadata": {},
     "output_type": "execute_result"
    }
   ],
   "source": [
    "liste = [1,2,3,4,5,6]\n",
    "list(map(lambda x:x**2,liste))"
   ]
  },
  {
   "cell_type": "code",
   "execution_count": 16,
   "metadata": {},
   "outputs": [
    {
     "data": {
      "text/plain": [
       "<zip at 0x7f6e5229df40>"
      ]
     },
     "execution_count": 16,
     "metadata": {},
     "output_type": "execute_result"
    }
   ],
   "source": [
    "# zip\n",
    "l1 = [\"a\",\"b\",\"c\",\"d\"]\n",
    "l2 = [10,20,40,60]\n",
    "zip(l1,l2)"
   ]
  },
  {
   "cell_type": "code",
   "execution_count": 17,
   "metadata": {},
   "outputs": [
    {
     "data": {
      "text/plain": [
       "[('a', 10), ('b', 20), ('c', 40), ('d', 60)]"
      ]
     },
     "execution_count": 17,
     "metadata": {},
     "output_type": "execute_result"
    }
   ],
   "source": [
    "l1 = [\"a\",\"b\",\"c\",\"d\"]\n",
    "l2 = [10,20,40,60]\n",
    "list(zip(l1,l2))"
   ]
  },
  {
   "cell_type": "code",
   "execution_count": 21,
   "metadata": {},
   "outputs": [
    {
     "data": {
      "text/plain": [
       "[('a', 10), ('b', 20), ('c', 40), ('d', 60)]"
      ]
     },
     "execution_count": 21,
     "metadata": {},
     "output_type": "execute_result"
    }
   ],
   "source": [
    "l1 = [\"a\",\"b\",\"c\",\"d\"]\n",
    "l2 = [10,20,40,60,50]\n",
    "list(zip(l1,l2,strict=True))"
   ]
  },
  {
   "cell_type": "code",
   "execution_count": 22,
   "metadata": {},
   "outputs": [
    {
     "data": {
      "text/plain": [
       "<filter at 0x7f6e700e7b50>"
      ]
     },
     "execution_count": 22,
     "metadata": {},
     "output_type": "execute_result"
    }
   ],
   "source": [
    "liste = [1,2,2,1,1,1,1,2,2,2,1,1,1,1,1,1,2,2,2,2,1,1,1,1,1,1,1,2,2,2,1,1,1,1,1,1,3,1,1,1,1,1,2,2,2,1,1,1,1,1,2,2,2,1,1,1]\n",
    "filter(lambda x:x==3,liste)"
   ]
  },
  {
   "cell_type": "code",
   "execution_count": 23,
   "metadata": {},
   "outputs": [
    {
     "data": {
      "text/plain": [
       "[3]"
      ]
     },
     "execution_count": 23,
     "metadata": {},
     "output_type": "execute_result"
    }
   ],
   "source": [
    "liste = [1,2,2,1,1,1,1,2,2,2,1,1,1,1,1,1,2,2,2,2,1,1,1,1,1,1,1,2,2,2,1,1,1,1,1,1,3,1,1,1,1,1,2,2,2,1,1,1,1,1,2,2,2,1,1,1]\n",
    "list(filter(lambda x:x==3,liste))"
   ]
  },
  {
   "cell_type": "code",
   "execution_count": 25,
   "metadata": {},
   "outputs": [
    {
     "name": "stdout",
     "output_type": "stream",
     "text": [
      "36\n"
     ]
    }
   ],
   "source": [
    "if len(list(filter(lambda x:x==3,liste))):\n",
    "    print(liste.index(3))"
   ]
  },
  {
   "cell_type": "code",
   "execution_count": 35,
   "metadata": {},
   "outputs": [
    {
     "data": {
      "text/plain": [
       "15"
      ]
     },
     "execution_count": 35,
     "metadata": {},
     "output_type": "execute_result"
    }
   ],
   "source": [
    "from functools import reduce\n",
    "import operator \n",
    "liste = [1,2,3,4,5]\n",
    "reduce(operator.add,liste)"
   ]
  },
  {
   "cell_type": "code",
   "execution_count": 36,
   "metadata": {},
   "outputs": [
    {
     "data": {
      "text/plain": [
       "['ali',\n",
       " 'ceren',\n",
       " 'göktuğ',\n",
       " 'hakan',\n",
       " 'ibrahim',\n",
       " 'sevgi',\n",
       " 'zeynep',\n",
       " 'çiğdem',\n",
       " 'özge',\n",
       " 'şermin']"
      ]
     },
     "execution_count": 36,
     "metadata": {},
     "output_type": "execute_result"
    }
   ],
   "source": [
    "liste = [\"çiğdem\",\"şermin\",\"sevgi\",\"ceren\",\"ali\",\"ibrahim\",\"özge\",\"göktuğ\",\"hakan\",\"zeynep\"]\n",
    "liste.sort()\n",
    "liste"
   ]
  },
  {
   "cell_type": "code",
   "execution_count": 39,
   "metadata": {},
   "outputs": [
    {
     "data": {
      "text/plain": [
       "(351, 115, 122)"
      ]
     },
     "execution_count": 39,
     "metadata": {},
     "output_type": "execute_result"
    }
   ],
   "source": [
    "ord(\"ş\"),ord(\"s\"),ord(\"z\")"
   ]
  },
  {
   "cell_type": "code",
   "execution_count": 40,
   "metadata": {},
   "outputs": [
    {
     "data": {
      "text/plain": [
       "{'a': 0,\n",
       " 'b': 1,\n",
       " 'c': 2,\n",
       " 'ç': 3,\n",
       " 'd': 4,\n",
       " 'e': 5,\n",
       " 'f': 6,\n",
       " 'g': 7,\n",
       " 'ğ': 8,\n",
       " 'h': 9,\n",
       " 'ı': 10,\n",
       " 'i': 11,\n",
       " 'j': 12,\n",
       " 'k': 13,\n",
       " 'l': 14,\n",
       " 'm': 15,\n",
       " 'n': 16,\n",
       " 'o': 17,\n",
       " 'ö': 18,\n",
       " 'p': 19,\n",
       " 'r': 20,\n",
       " 's': 21,\n",
       " 'ş': 22,\n",
       " 't': 23,\n",
       " 'u': 24,\n",
       " 'ü': 25,\n",
       " 'v': 26,\n",
       " 'y': 27,\n",
       " 'z': 28}"
      ]
     },
     "execution_count": 40,
     "metadata": {},
     "output_type": "execute_result"
    }
   ],
   "source": [
    "alfabe = \"abcçdefgğhıijklmnoöprsştuüvyz\"\n",
    "cevrim = {x:alfabe.index(x) for x in alfabe}\n",
    "cevrim"
   ]
  },
  {
   "cell_type": "code",
   "execution_count": 41,
   "metadata": {},
   "outputs": [
    {
     "data": {
      "text/plain": [
       "['ali',\n",
       " 'ceren',\n",
       " 'çiğdem',\n",
       " 'göktuğ',\n",
       " 'hakan',\n",
       " 'ibrahim',\n",
       " 'özge',\n",
       " 'sevgi',\n",
       " 'şermin',\n",
       " 'zeynep']"
      ]
     },
     "execution_count": 41,
     "metadata": {},
     "output_type": "execute_result"
    }
   ],
   "source": [
    "sorted(liste,key=lambda a:cevrim.get(a[0]))"
   ]
  },
  {
   "cell_type": "code",
   "execution_count": 42,
   "metadata": {},
   "outputs": [],
   "source": [
    "# -*- coding: utf-8 -*-"
   ]
  },
  {
   "cell_type": "code",
   "execution_count": 43,
   "metadata": {},
   "outputs": [],
   "source": [
    "liste = [\"çiğdem\",\"şermin\",\"sevgi\",\"ceren\",\"ali\",\"ibrahim\",\"özge\",\"göktuğ\",\"hakan\",\"zeynep\"]"
   ]
  },
  {
   "cell_type": "code",
   "execution_count": 44,
   "metadata": {},
   "outputs": [
    {
     "data": {
      "text/plain": [
       "['ali',\n",
       " 'ceren',\n",
       " 'göktuğ',\n",
       " 'hakan',\n",
       " 'ibrahim',\n",
       " 'sevgi',\n",
       " 'zeynep',\n",
       " 'çiğdem',\n",
       " 'özge',\n",
       " 'şermin']"
      ]
     },
     "execution_count": 44,
     "metadata": {},
     "output_type": "execute_result"
    }
   ],
   "source": [
    "liste.sort()\n",
    "liste"
   ]
  },
  {
   "cell_type": "code",
   "execution_count": 49,
   "metadata": {},
   "outputs": [
    {
     "data": {
      "text/plain": [
       "True"
      ]
     },
     "execution_count": 49,
     "metadata": {},
     "output_type": "execute_result"
    }
   ],
   "source": [
    "liste = [0,0,0,0,0,0,0,1,0,0,0]\n",
    "any(liste)"
   ]
  },
  {
   "cell_type": "code",
   "execution_count": 50,
   "metadata": {},
   "outputs": [
    {
     "data": {
      "text/plain": [
       "False"
      ]
     },
     "execution_count": 50,
     "metadata": {},
     "output_type": "execute_result"
    }
   ],
   "source": [
    "liste = [0,0,0,0,0,0,0,1,0,0,0]\n",
    "all(liste)"
   ]
  },
  {
   "cell_type": "code",
   "execution_count": 52,
   "metadata": {},
   "outputs": [
    {
     "data": {
      "text/plain": [
       "True"
      ]
     },
     "execution_count": 52,
     "metadata": {},
     "output_type": "execute_result"
    }
   ],
   "source": [
    "liste = [1,1,1,1,1,1,1,1,1,1]\n",
    "all(liste)"
   ]
  },
  {
   "cell_type": "markdown",
   "metadata": {},
   "source": [
    "#### Tüm Kod"
   ]
  },
  {
   "cell_type": "code",
   "execution_count": 45,
   "metadata": {},
   "outputs": [
    {
     "data": {
      "text/plain": [
       "['ali',\n",
       " 'ceren',\n",
       " 'göktuğ',\n",
       " 'hakan',\n",
       " 'ibrahim',\n",
       " 'sevgi',\n",
       " 'zeynep',\n",
       " 'çiğdem',\n",
       " 'özge',\n",
       " 'şermin']"
      ]
     },
     "execution_count": 45,
     "metadata": {},
     "output_type": "execute_result"
    }
   ],
   "source": [
    "liste = [\"çiğdem\",\"şermin\",\"sevgi\",\"ceren\",\"ali\",\"ibrahim\",\"özge\",\"göktuğ\",\"hakan\",\"zeynep\"]\n",
    "liste.sort()\n",
    "liste"
   ]
  },
  {
   "cell_type": "code",
   "execution_count": 46,
   "metadata": {},
   "outputs": [
    {
     "data": {
      "text/plain": [
       "['ali',\n",
       " 'ceren',\n",
       " 'çiğdem',\n",
       " 'göktuğ',\n",
       " 'hakan',\n",
       " 'ibrahim',\n",
       " 'özge',\n",
       " 'sevgi',\n",
       " 'şermin',\n",
       " 'zeynep']"
      ]
     },
     "execution_count": 46,
     "metadata": {},
     "output_type": "execute_result"
    }
   ],
   "source": [
    "alfabe = \"abcçdefgğhıijklmnoöprsştuüvyz\"\n",
    "cevrim = {x:alfabe.index(x) for x in alfabe}\n",
    "sorted(liste,key=lambda a:cevrim.get(a[0])) # 0 2 7"
   ]
  },
  {
   "cell_type": "markdown",
   "metadata": {},
   "source": [
    "## Egzersiz\n",
    "1. Password Policy Control\n",
    "2. T.C. Kimlik Kontrol\n",
    "3. IBAN Kontrol"
   ]
  },
  {
   "cell_type": "code",
   "execution_count": null,
   "metadata": {},
   "outputs": [],
   "source": []
  }
 ],
 "metadata": {
  "kernelspec": {
   "display_name": "Python 3",
   "language": "python",
   "name": "python3"
  },
  "language_info": {
   "codemirror_mode": {
    "name": "ipython",
    "version": 3
   },
   "file_extension": ".py",
   "mimetype": "text/x-python",
   "name": "python",
   "nbconvert_exporter": "python",
   "pygments_lexer": "ipython3",
   "version": "3.12.4"
  }
 },
 "nbformat": 4,
 "nbformat_minor": 2
}
